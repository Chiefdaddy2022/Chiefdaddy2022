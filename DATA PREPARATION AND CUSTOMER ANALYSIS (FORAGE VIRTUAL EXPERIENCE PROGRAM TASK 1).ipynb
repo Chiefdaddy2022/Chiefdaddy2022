{
 "cells": [
  {
   "cell_type": "markdown",
   "id": "9c3e91ad-5c8c-489c-877a-1397590df5a3",
   "metadata": {},
   "source": [
    "#                           Data Preparation and Customer Analytics"
   ]
  },
  {
   "cell_type": "markdown",
   "id": "9100433d-fe37-4012-a2f6-64b4c0b512b3",
   "metadata": {},
   "source": [
    "## Introduction"
   ]
  },
  {
   "cell_type": "markdown",
   "id": "a1c7fe02-9046-413c-8a51-e8f801bea114",
   "metadata": {},
   "source": [
    "This is a `Data preparation` and `Customer analytics` project to be carried out by Quantium’s retail analytics team. The project is being done at the behest of our client, the `Category Manager of Chips`, who wants to better understand the types of customers who purchase Chips and their purchasing behaviour within the region.\n",
    "The insights from this project will be feed into the supermarket’s strategic plan for the chip category in the next half year."
   ]
  },
  {
   "cell_type": "markdown",
   "id": "b2d978c1-d0e3-4967-ac2d-d49cd55fb0c8",
   "metadata": {},
   "source": [
    "## Objective"
   ]
  },
  {
   "cell_type": "markdown",
   "id": "596728b3-d973-4693-88ac-38bcf7a01b67",
   "metadata": {},
   "source": [
    "The Objective of this Data Analysis is to find out the following:\n",
    "\n",
    "- Who spends the most on `chips (total sales)`, `describing customers by lifestage` and `how premium their general purchasing behaviour is`\n",
    "- How many customers are in each segment\n",
    "- How many chips are bought per customer by segment\n",
    "- What's the average chip price by customer segment\n",
    "- The customer's total spend over the period and total spend for each transaction to understand what proportion of their grocery spend is on chips \n",
    "- Proportion of customers in each customer segment overall to compare against the mix of customers who purchase chips\n",
    "- Visualize significant findings"
   ]
  },
  {
   "cell_type": "markdown",
   "id": "0607140a-a77f-49ea-9952-527fa4af9f4b",
   "metadata": {},
   "source": [
    "## Steps taken "
   ]
  },
  {
   "cell_type": "markdown",
   "id": "3bc73bc8-acae-4b61-9731-683bf748f1c5",
   "metadata": {},
   "source": [
    "- `Source` and `Extract` raw data\n",
    "- `Import` needed libraries\n",
    "- `Load` the required Datasets\n",
    "- `Cleaning` and Manipulation of the Datasets\n",
    "- Perform `Exploratory Data Analysis` on the Datasets\n",
    "- `Merge Dataframes` and `Create new columns` were necessary\n",
    "- Visualize using either `Python` or `Tableau`"
   ]
  },
  {
   "cell_type": "markdown",
   "id": "e26f7dfd-46e9-4787-8f3a-5743e458fa28",
   "metadata": {},
   "source": [
    "## Tools used\n",
    "\n",
    "The tools used for Data cleaning, Manipulation, Analysis and Visualization are:\n",
    "\n",
    "- `Excel`\n",
    "- `Python`\n",
    "- `Tableau`\n",
    "- `ChatGPT`(For code debugging and help with running very complex and complicated lines of code)"
   ]
  },
  {
   "cell_type": "code",
   "execution_count": 1,
   "id": "b2675f06-980d-4004-91e4-ea4e87f83b0b",
   "metadata": {},
   "outputs": [],
   "source": [
    "## Import necessary libraries needed\n",
    "\n",
    "import pandas as pd\n",
    "import numpy as np\n",
    "import seaborn as sns\n",
    "import matplotlib.pyplot as plt\n",
    "from scipy.stats import iqr\n",
    "\n",
    "\n",
    "# Settings to produce nice plots in a Jupyter notebook\n",
    "\n",
    "plt.style.use('seaborn')\n",
    "%matplotlib inline\n",
    "\n",
    "from scipy import stats\n",
    "from nltk.tokenize import word_tokenize\n",
    "from nltk.probability import FreqDist\n",
    "import re"
   ]
  },
  {
   "cell_type": "code",
   "execution_count": 2,
   "id": "9b9e54ca-979e-4de8-b042-fb20de307226",
   "metadata": {},
   "outputs": [],
   "source": [
    "# Reading csv files containing the both transaction and customer purchase behaviour datasets\n",
    "\n",
    "df = pd.read_csv(r\"C:\\Users\\goodn\\OneDrive\\Desktop\\FORAGE INTERSHIP\\QVI_transaction_data.csv\")\n",
    "df2  = pd.read_csv(r\"C:\\Users\\goodn\\OneDrive\\Desktop\\FORAGE INTERSHIP\\QVI_purchase_behaviour.csv\")\n",
    "\n",
    "# Convert Date Column to datetime format\n",
    "\n",
    "df['DATE'] = pd.to_datetime(df['DATE'])\n",
    "\n",
    "# Remove timestamp from Date column\n",
    "\n",
    "df['DATE'] = df['DATE'].dt.date\n",
    "\n",
    "# Convert Date Column back to datetime format\n",
    "\n",
    "df['DATE'] = pd.to_datetime(df['DATE'])"
   ]
  },
  {
   "cell_type": "markdown",
   "id": "7700e1ab-5541-4d0f-8d90-2772024e208b",
   "metadata": {},
   "source": [
    "## Understanding both Datasets"
   ]
  },
  {
   "cell_type": "code",
   "execution_count": 3,
   "id": "d34e39fb-ecda-4390-9377-19c6547f3382",
   "metadata": {},
   "outputs": [
    {
     "name": "stdout",
     "output_type": "stream",
     "text": [
      "<class 'pandas.core.frame.DataFrame'>\n",
      "RangeIndex: 264836 entries, 0 to 264835\n",
      "Data columns (total 8 columns):\n",
      " #   Column          Non-Null Count   Dtype         \n",
      "---  ------          --------------   -----         \n",
      " 0   DATE            264836 non-null  datetime64[ns]\n",
      " 1   STORE_NBR       264836 non-null  int64         \n",
      " 2   LYLTY_CARD_NBR  264836 non-null  int64         \n",
      " 3   TXN_ID          264836 non-null  int64         \n",
      " 4   PROD_NBR        264836 non-null  int64         \n",
      " 5   PROD_NAME       264836 non-null  object        \n",
      " 6   PROD_QTY        264836 non-null  int64         \n",
      " 7   TOT_SALES       264836 non-null  float64       \n",
      "dtypes: datetime64[ns](1), float64(1), int64(5), object(1)\n",
      "memory usage: 16.2+ MB\n"
     ]
    }
   ],
   "source": [
    "# Summary basic information of the Transaction Dataset\n",
    "\n",
    "df.info()"
   ]
  },
  {
   "cell_type": "code",
   "execution_count": 4,
   "id": "d16c60bd-a1a9-4456-bbea-16c2089d70df",
   "metadata": {},
   "outputs": [
    {
     "data": {
      "text/html": [
       "<div>\n",
       "<style scoped>\n",
       "    .dataframe tbody tr th:only-of-type {\n",
       "        vertical-align: middle;\n",
       "    }\n",
       "\n",
       "    .dataframe tbody tr th {\n",
       "        vertical-align: top;\n",
       "    }\n",
       "\n",
       "    .dataframe thead th {\n",
       "        text-align: right;\n",
       "    }\n",
       "</style>\n",
       "<table border=\"1\" class=\"dataframe\">\n",
       "  <thead>\n",
       "    <tr style=\"text-align: right;\">\n",
       "      <th></th>\n",
       "      <th>DATE</th>\n",
       "      <th>STORE_NBR</th>\n",
       "      <th>LYLTY_CARD_NBR</th>\n",
       "      <th>TXN_ID</th>\n",
       "      <th>PROD_NBR</th>\n",
       "      <th>PROD_NAME</th>\n",
       "      <th>PROD_QTY</th>\n",
       "      <th>TOT_SALES</th>\n",
       "    </tr>\n",
       "  </thead>\n",
       "  <tbody>\n",
       "    <tr>\n",
       "      <th>0</th>\n",
       "      <td>2018-10-17</td>\n",
       "      <td>1</td>\n",
       "      <td>1000</td>\n",
       "      <td>1</td>\n",
       "      <td>5</td>\n",
       "      <td>Natural Chip Compny Sea Salt 175g</td>\n",
       "      <td>2</td>\n",
       "      <td>6.0</td>\n",
       "    </tr>\n",
       "    <tr>\n",
       "      <th>1</th>\n",
       "      <td>2019-05-14</td>\n",
       "      <td>1</td>\n",
       "      <td>1307</td>\n",
       "      <td>348</td>\n",
       "      <td>66</td>\n",
       "      <td>CCs Nacho Cheese 175g</td>\n",
       "      <td>3</td>\n",
       "      <td>6.3</td>\n",
       "    </tr>\n",
       "    <tr>\n",
       "      <th>2</th>\n",
       "      <td>2019-05-20</td>\n",
       "      <td>1</td>\n",
       "      <td>1343</td>\n",
       "      <td>383</td>\n",
       "      <td>61</td>\n",
       "      <td>Smiths Crinkle Cut Chips Chicken 170g</td>\n",
       "      <td>2</td>\n",
       "      <td>2.9</td>\n",
       "    </tr>\n",
       "    <tr>\n",
       "      <th>3</th>\n",
       "      <td>2018-08-17</td>\n",
       "      <td>2</td>\n",
       "      <td>2373</td>\n",
       "      <td>974</td>\n",
       "      <td>69</td>\n",
       "      <td>Smiths Chip Thinly S/Cream &amp; Onion 175g</td>\n",
       "      <td>5</td>\n",
       "      <td>15.0</td>\n",
       "    </tr>\n",
       "    <tr>\n",
       "      <th>4</th>\n",
       "      <td>2018-08-18</td>\n",
       "      <td>2</td>\n",
       "      <td>2426</td>\n",
       "      <td>1038</td>\n",
       "      <td>108</td>\n",
       "      <td>Kettle Tortilla Chps Hny &amp; Jlpno Chili 150g</td>\n",
       "      <td>3</td>\n",
       "      <td>13.8</td>\n",
       "    </tr>\n",
       "  </tbody>\n",
       "</table>\n",
       "</div>"
      ],
      "text/plain": [
       "        DATE  STORE_NBR  LYLTY_CARD_NBR  TXN_ID  PROD_NBR  \\\n",
       "0 2018-10-17          1            1000       1         5   \n",
       "1 2019-05-14          1            1307     348        66   \n",
       "2 2019-05-20          1            1343     383        61   \n",
       "3 2018-08-17          2            2373     974        69   \n",
       "4 2018-08-18          2            2426    1038       108   \n",
       "\n",
       "                                     PROD_NAME  PROD_QTY  TOT_SALES  \n",
       "0            Natural Chip Compny Sea Salt 175g         2        6.0  \n",
       "1                        CCs Nacho Cheese 175g         3        6.3  \n",
       "2        Smiths Crinkle Cut Chips Chicken 170g         2        2.9  \n",
       "3      Smiths Chip Thinly S/Cream & Onion 175g         5       15.0  \n",
       "4  Kettle Tortilla Chps Hny & Jlpno Chili 150g         3       13.8  "
      ]
     },
     "execution_count": 4,
     "metadata": {},
     "output_type": "execute_result"
    }
   ],
   "source": [
    "# Showing the first 5 rows of the transaction data\n",
    "\n",
    "df.head()"
   ]
  },
  {
   "cell_type": "code",
   "execution_count": 5,
   "id": "78add8cd-7c50-4768-97c7-7df883d2db49",
   "metadata": {},
   "outputs": [
    {
     "data": {
      "text/html": [
       "<div>\n",
       "<style scoped>\n",
       "    .dataframe tbody tr th:only-of-type {\n",
       "        vertical-align: middle;\n",
       "    }\n",
       "\n",
       "    .dataframe tbody tr th {\n",
       "        vertical-align: top;\n",
       "    }\n",
       "\n",
       "    .dataframe thead th {\n",
       "        text-align: right;\n",
       "    }\n",
       "</style>\n",
       "<table border=\"1\" class=\"dataframe\">\n",
       "  <thead>\n",
       "    <tr style=\"text-align: right;\">\n",
       "      <th></th>\n",
       "      <th>DATE</th>\n",
       "      <th>STORE_NBR</th>\n",
       "      <th>LYLTY_CARD_NBR</th>\n",
       "      <th>TXN_ID</th>\n",
       "      <th>PROD_NBR</th>\n",
       "      <th>PROD_NAME</th>\n",
       "      <th>PROD_QTY</th>\n",
       "      <th>TOT_SALES</th>\n",
       "    </tr>\n",
       "  </thead>\n",
       "  <tbody>\n",
       "    <tr>\n",
       "      <th>264831</th>\n",
       "      <td>2019-03-09</td>\n",
       "      <td>272</td>\n",
       "      <td>272319</td>\n",
       "      <td>270088</td>\n",
       "      <td>89</td>\n",
       "      <td>Kettle Sweet Chilli &amp; Sour Cream 175g</td>\n",
       "      <td>2</td>\n",
       "      <td>10.8</td>\n",
       "    </tr>\n",
       "    <tr>\n",
       "      <th>264832</th>\n",
       "      <td>2018-08-13</td>\n",
       "      <td>272</td>\n",
       "      <td>272358</td>\n",
       "      <td>270154</td>\n",
       "      <td>74</td>\n",
       "      <td>Tostitos Splash Of Lime 175g</td>\n",
       "      <td>1</td>\n",
       "      <td>4.4</td>\n",
       "    </tr>\n",
       "    <tr>\n",
       "      <th>264833</th>\n",
       "      <td>2018-11-06</td>\n",
       "      <td>272</td>\n",
       "      <td>272379</td>\n",
       "      <td>270187</td>\n",
       "      <td>51</td>\n",
       "      <td>Doritos Mexicana 170g</td>\n",
       "      <td>2</td>\n",
       "      <td>8.8</td>\n",
       "    </tr>\n",
       "    <tr>\n",
       "      <th>264834</th>\n",
       "      <td>2018-12-27</td>\n",
       "      <td>272</td>\n",
       "      <td>272379</td>\n",
       "      <td>270188</td>\n",
       "      <td>42</td>\n",
       "      <td>Doritos Corn Chip Mexican Jalapeno 150g</td>\n",
       "      <td>2</td>\n",
       "      <td>7.8</td>\n",
       "    </tr>\n",
       "    <tr>\n",
       "      <th>264835</th>\n",
       "      <td>2018-09-22</td>\n",
       "      <td>272</td>\n",
       "      <td>272380</td>\n",
       "      <td>270189</td>\n",
       "      <td>74</td>\n",
       "      <td>Tostitos Splash Of Lime 175g</td>\n",
       "      <td>2</td>\n",
       "      <td>8.8</td>\n",
       "    </tr>\n",
       "  </tbody>\n",
       "</table>\n",
       "</div>"
      ],
      "text/plain": [
       "             DATE  STORE_NBR  LYLTY_CARD_NBR  TXN_ID  PROD_NBR  \\\n",
       "264831 2019-03-09        272          272319  270088        89   \n",
       "264832 2018-08-13        272          272358  270154        74   \n",
       "264833 2018-11-06        272          272379  270187        51   \n",
       "264834 2018-12-27        272          272379  270188        42   \n",
       "264835 2018-09-22        272          272380  270189        74   \n",
       "\n",
       "                                      PROD_NAME  PROD_QTY  TOT_SALES  \n",
       "264831    Kettle Sweet Chilli & Sour Cream 175g         2       10.8  \n",
       "264832             Tostitos Splash Of Lime 175g         1        4.4  \n",
       "264833                    Doritos Mexicana 170g         2        8.8  \n",
       "264834  Doritos Corn Chip Mexican Jalapeno 150g         2        7.8  \n",
       "264835             Tostitos Splash Of Lime 175g         2        8.8  "
      ]
     },
     "execution_count": 5,
     "metadata": {},
     "output_type": "execute_result"
    }
   ],
   "source": [
    "# Showing the last 5 rows of the transaction data\n",
    "\n",
    "df.tail()"
   ]
  },
  {
   "cell_type": "markdown",
   "id": "1682d11c-c6c5-4942-beb1-ba5dc63ae6fe",
   "metadata": {},
   "source": [
    "## Checking the shape of both Datasets"
   ]
  },
  {
   "cell_type": "code",
   "execution_count": 6,
   "id": "84035f91-4ee2-4e05-9df6-e2010b350980",
   "metadata": {},
   "outputs": [
    {
     "data": {
      "text/plain": [
       "(264836, 8)"
      ]
     },
     "execution_count": 6,
     "metadata": {},
     "output_type": "execute_result"
    }
   ],
   "source": [
    "# Showing the shape of the Transaction data\n",
    "\n",
    "df.shape"
   ]
  },
  {
   "cell_type": "code",
   "execution_count": 7,
   "id": "9e4ebaa7-377f-4bda-b492-126c1248f6ac",
   "metadata": {},
   "outputs": [
    {
     "data": {
      "text/plain": [
       "Index(['DATE', 'STORE_NBR', 'LYLTY_CARD_NBR', 'TXN_ID', 'PROD_NBR',\n",
       "       'PROD_NAME', 'PROD_QTY', 'TOT_SALES'],\n",
       "      dtype='object')"
      ]
     },
     "execution_count": 7,
     "metadata": {},
     "output_type": "execute_result"
    }
   ],
   "source": [
    "# Check for column variables name for the Transaction Dataset\n",
    "\n",
    "df.columns"
   ]
  },
  {
   "cell_type": "code",
   "execution_count": 8,
   "id": "609603af-873a-4eea-9f71-36c9fb4a996f",
   "metadata": {},
   "outputs": [],
   "source": [
    "# Count for unique values in each column, and store the results in the Transaction dataset\n",
    "\n",
    "unique_count = df.nunique()"
   ]
  },
  {
   "cell_type": "code",
   "execution_count": 9,
   "id": "316b9ce9-e1aa-4ebf-8f38-9c943c786c91",
   "metadata": {},
   "outputs": [
    {
     "data": {
      "text/plain": [
       "DATE                 364\n",
       "STORE_NBR            272\n",
       "LYLTY_CARD_NBR     72637\n",
       "TXN_ID            263127\n",
       "PROD_NBR             114\n",
       "PROD_NAME            114\n",
       "PROD_QTY               6\n",
       "TOT_SALES            112\n",
       "dtype: int64"
      ]
     },
     "execution_count": 9,
     "metadata": {},
     "output_type": "execute_result"
    }
   ],
   "source": [
    "unique_count"
   ]
  },
  {
   "cell_type": "code",
   "execution_count": 10,
   "id": "ff4252e1-cc23-43ec-b6a4-57a00a7e5371",
   "metadata": {},
   "outputs": [
    {
     "data": {
      "text/plain": [
       "array(['Natural Chip Compny Sea Salt 175g', 'CCs Nacho Cheese 175g',\n",
       "       'Smiths Crinkle Cut Chips Chicken 170g',\n",
       "       'Smiths Chip Thinly S/Cream & Onion 175g',\n",
       "       'Kettle Tortilla Chps Hny & Jlpno Chili 150g',\n",
       "       'Old El Paso Salsa Dip Tomato Mild 300g',\n",
       "       'Smiths Crinkle Chips Salt & Vinegar 330g',\n",
       "       'Grain Waves Sweet Chilli 210g',\n",
       "       'Doritos Corn Chip Mexican Jalapeno 150g',\n",
       "       'Grain Waves Sour Cream & Chives 210g',\n",
       "       'Kettle Sensations Siracha Lime 150g', 'Twisties Cheese 270g',\n",
       "       'WW Crinkle Cut Chicken 175g', 'Thins Chips Light & Tangy 175g',\n",
       "       'CCs Original 175g', 'Burger Rings 220g',\n",
       "       'NCC Sour Cream & Garden Chives 175g',\n",
       "       'Doritos Corn Chip Southern Chicken 150g',\n",
       "       'Cheezels Cheese Box 125g', 'Smiths Crinkle Original 330g',\n",
       "       'Infzns Crn Crnchers Tangy Gcamole 110g',\n",
       "       'Kettle Sea Salt & Vinegar 175g',\n",
       "       'Smiths Chip Thinly Cut Original 175g', 'Kettle Original 175g',\n",
       "       'Red Rock Deli Thai Chilli & Lime 150g',\n",
       "       'Pringles Sthrn Fried Chicken 134g',\n",
       "       'Pringles Sweet & Spcy BBQ 134g',\n",
       "       'Red Rock Deli SR Salsa & Mozzarella 150g',\n",
       "       'Thins Chips Originl saltd 175g',\n",
       "       'Red Rock Deli Sp Salt & Truffle 150g',\n",
       "       'Smiths Thinly Swt Chli & S/Cream 175g', 'Kettle Chilli 175g',\n",
       "       'Doritos Mexicana 170g',\n",
       "       'Smiths Crinkle Cut French Onion Dip 150g',\n",
       "       'Natural Chip Co Hony Soy Chckn 175g',\n",
       "       'Dorito Corn Chp Supreme 380g', 'Twisties Chicken 270g',\n",
       "       'Smiths Thinly Cut Roast Chicken 175g',\n",
       "       'Smiths Crinkle Cut Tomato Salsa 150g',\n",
       "       'Kettle Mozzarella Basil & Pesto 175g',\n",
       "       'Infuzions Thai Sweet Chili Potato Mix 110g',\n",
       "       'Kettle Sensations Camembert & Fig 150g',\n",
       "       'Smith Crinkle Cut Mac n Cheese 150g',\n",
       "       'Kettle Honey Soy Chicken 175g',\n",
       "       'Thins Chips Seasoned chicken 175g',\n",
       "       'Smiths Crinkle Cut Salt & Vinegar 170g',\n",
       "       'Infuzions BBQ Rib Prawn Crackers 110g',\n",
       "       'Grn Wves Plus Btroot & Chilli Jam 180g',\n",
       "       'Tyrrells Crisps Lightly Salted 165g',\n",
       "       'Kettle Sweet Chilli & Sour Cream 175g',\n",
       "       'Doritos Salsa Medium 300g', 'Kettle Swt Pot Sea Salt 135g',\n",
       "       'Pringles Sour Cream Onion 134g',\n",
       "       'Doritos Corn Chips Original 170g', 'Twisties Cheese Burger 250g',\n",
       "       'Old El Paso Salsa Dip Chnky Tom Ht 300g',\n",
       "       'Cobs Popd Swt, Chlli & Sr/Cream Chips 110g',\n",
       "       'Woolworths Mild Salsa 300g',\n",
       "       'Natural Chip Co Tmato Hrb & Spce 175g',\n",
       "       'Smiths Crinkle Cut Chips Original 170g',\n",
       "       'Cobs Popd Sea Salt Chips 110g',\n",
       "       'Smiths Crinkle Cut Chips Chs & Onion 170g',\n",
       "       'French Fries Potato Chips 175g',\n",
       "       'Old El Paso Salsa Dip Tomato Med 300g',\n",
       "       'Doritos Corn Chips Cheese Supreme 170g',\n",
       "       'Pringles Original Crisps 134g', 'RRD Chilli & Coconut 150g',\n",
       "       'WW Original Corn Chips 200g',\n",
       "       'Thins Potato Chips Hot & Spicy 175g',\n",
       "       'Cobs Popd Sour Crm & Chives Chips 110g',\n",
       "       'Smiths Crnkle Chip Orgnl Big Bag 380g',\n",
       "       'Doritos Corn Chips Nacho Cheese 170g',\n",
       "       'Kettle Sensations BBQ & Maple 150g',\n",
       "       'WW D/Style Chip Sea Salt 200g',\n",
       "       'Pringles Chicken Salt Crips 134g',\n",
       "       'WW Original Stacked Chips 160g',\n",
       "       'Smiths Chip Thinly Cut Salt/Vinegr 175g', 'Cheezels Cheese 330g',\n",
       "       'Tostitos Lightly Salted 175g', 'Thins Chips Salt & Vinegar 175g',\n",
       "       'Smiths Crinkle Cut Chips Barbecue 170g', 'Cheetos Puffs 165g',\n",
       "       'RRD Sweet Chilli & Sour Cream 165g',\n",
       "       'WW Crinkle Cut Original 175g', 'Tostitos Splash Of Lime 175g',\n",
       "       'Woolworths Medium Salsa 300g',\n",
       "       'Kettle Tortilla Chps Btroot & Ricotta 150g',\n",
       "       'CCs Tasty Cheese 175g', 'Woolworths Cheese Rings 190g',\n",
       "       'Tostitos Smoked Chipotle 175g', 'Pringles Barbeque 134g',\n",
       "       'WW Supreme Cheese Corn Chips 200g',\n",
       "       'Pringles Mystery Flavour 134g',\n",
       "       'Tyrrells Crisps Cheddar & Chives 165g',\n",
       "       'Snbts Whlgrn Crisps Cheddar & Mstrd 90g',\n",
       "       'Cheetos Chs & Bacon Balls 190g', 'Pringles Slt Vingar 134g',\n",
       "       'Infuzions Sour Cream & Herbs Veg Strws 110g',\n",
       "       'Kettle Tortilla Chps Feta & Garlic 150g',\n",
       "       'Infuzions Mango Chutny Papadums 70g',\n",
       "       'RRD Steak & Chimuchurri 150g', 'RRD Honey Soy Chicken 165g',\n",
       "       'Sunbites Whlegrn Crisps Frch/Onion 90g',\n",
       "       'RRD Salt & Vinegar 165g', 'Doritos Cheese Supreme 330g',\n",
       "       'Smiths Crinkle Cut Snag & Sauce 150g',\n",
       "       'WW Sour Cream & Onion Stacked Chips 160g',\n",
       "       'RRD Lime & Pepper 165g', 'Natural Chip Co Sea Salt & Vinegr 175g',\n",
       "       'Red Rock Deli Chikn & Garlic Aioli 150g',\n",
       "       'RRD SR Slow Rst Pork Belly 150g', 'RRD Pc Sea Salt 165g',\n",
       "       'Smith Crinkle Cut Bolognese 150g', 'Doritos Salsa Mild 300g'],\n",
       "      dtype=object)"
      ]
     },
     "execution_count": 10,
     "metadata": {},
     "output_type": "execute_result"
    }
   ],
   "source": [
    "# Checking for uniques values in Product Name column\n",
    "\n",
    "df[\"PROD_NAME\"].unique()"
   ]
  },
  {
   "cell_type": "code",
   "execution_count": 11,
   "id": "25d426d4-7dd9-4e08-9ae7-7edd5a03fce5",
   "metadata": {},
   "outputs": [
    {
     "data": {
      "text/plain": [
       "array(['Premium', 'Mainstream', 'Budget'], dtype=object)"
      ]
     },
     "execution_count": 11,
     "metadata": {},
     "output_type": "execute_result"
    }
   ],
   "source": [
    "# Unique values in premium customer column\n",
    "\n",
    "df2['PREMIUM_CUSTOMER'].unique()"
   ]
  },
  {
   "cell_type": "code",
   "execution_count": 12,
   "id": "37a99279-04c8-4eb7-b475-2995bf3ff7af",
   "metadata": {},
   "outputs": [
    {
     "data": {
      "text/plain": [
       "array(['YOUNG SINGLES/COUPLES', 'YOUNG FAMILIES', 'OLDER SINGLES/COUPLES',\n",
       "       'MIDAGE SINGLES/COUPLES', 'NEW FAMILIES', 'OLDER FAMILIES',\n",
       "       'RETIREES'], dtype=object)"
      ]
     },
     "execution_count": 12,
     "metadata": {},
     "output_type": "execute_result"
    }
   ],
   "source": [
    "## Unique values in the life stage column\n",
    "\n",
    "df2['LIFESTAGE'].unique()"
   ]
  },
  {
   "cell_type": "markdown",
   "id": "58d08c75-785d-4f26-8b1c-49aa77beb2af",
   "metadata": {},
   "source": [
    "## Cleaning & Manipulating the Dataset"
   ]
  },
  {
   "cell_type": "code",
   "execution_count": 13,
   "id": "81c95f0f-dc5c-4914-b2ca-4bc32a5e1061",
   "metadata": {},
   "outputs": [
    {
     "data": {
      "text/plain": [
       "DATE              0\n",
       "STORE_NBR         0\n",
       "LYLTY_CARD_NBR    0\n",
       "TXN_ID            0\n",
       "PROD_NBR          0\n",
       "PROD_NAME         0\n",
       "PROD_QTY          0\n",
       "TOT_SALES         0\n",
       "dtype: int64"
      ]
     },
     "execution_count": 13,
     "metadata": {},
     "output_type": "execute_result"
    }
   ],
   "source": [
    "# Detecting & counting missing/null values in the Transaction Dataset\n",
    "\n",
    "df.isna().sum() "
   ]
  },
  {
   "cell_type": "code",
   "execution_count": 14,
   "id": "0e362cd4-5a2a-4b13-873d-92fd6f50f7b9",
   "metadata": {},
   "outputs": [],
   "source": [
    "# Tokenize the text in the column of interest\n",
    "\n",
    "tokens = word_tokenize(' '.join(df['PROD_NAME'].astype(str)))"
   ]
  },
  {
   "cell_type": "code",
   "execution_count": 15,
   "id": "17caa2d4-e21c-478d-aede-073d9103cc97",
   "metadata": {},
   "outputs": [],
   "source": [
    "# Compute word frequency\n",
    "\n",
    "fdist = FreqDist(tokens)\n",
    "most_common_words = fdist.most_common(223)  # Change 10 to the desired number of most common words"
   ]
  },
  {
   "cell_type": "code",
   "execution_count": 16,
   "id": "76d35dac-648c-441c-888c-af42f9efd938",
   "metadata": {},
   "outputs": [
    {
     "data": {
      "text/plain": [
       "[('&', 88617),\n",
       " ('175g', 66390),\n",
       " ('Chips', 49770),\n",
       " ('150g', 43131),\n",
       " ('Kettle', 41288),\n",
       " ('Salt', 29444),\n",
       " ('Smiths', 28860),\n",
       " ('Cheese', 27890),\n",
       " ('Pringles', 25102),\n",
       " ('134g', 25102),\n",
       " ('Doritos', 24962),\n",
       " ('Crinkle', 23960),\n",
       " ('110g', 22387),\n",
       " ('Cut', 22194),\n",
       " ('Corn', 22063),\n",
       " ('Chicken', 21660),\n",
       " ('Chip', 21655),\n",
       " ('Original', 21560),\n",
       " ('Sour', 20178),\n",
       " ('170g', 19983),\n",
       " ('Salsa', 18094),\n",
       " ('Cream', 17019),\n",
       " ('Sea', 15613),\n",
       " ('Chilli', 15390),\n",
       " ('165g', 15297),\n",
       " ('300g', 15166),\n",
       " ('Sweet', 14302),\n",
       " ('Thins', 14075),\n",
       " ('Crisps', 12607),\n",
       " ('330g', 12540),\n",
       " ('Vinegar', 12402),\n",
       " ('RRD', 11894),\n",
       " ('Infuzions', 11057),\n",
       " ('Supreme', 10963),\n",
       " ('Chives', 10951),\n",
       " ('Dip', 10762),\n",
       " ('WW', 10320),\n",
       " ('Cobs', 9693),\n",
       " ('Popd', 9693),\n",
       " ('Tortilla', 9580),\n",
       " ('Chps', 9580),\n",
       " ('Tostitos', 9471),\n",
       " ('Twisties', 9454),\n",
       " ('BBQ', 9434),\n",
       " ('Sensations', 9429),\n",
       " ('Lime', 9347),\n",
       " ('Old', 9324),\n",
       " ('El', 9324),\n",
       " ('Paso', 9324),\n",
       " ('Onion', 9037),\n",
       " ('Swt', 7987),\n",
       " ('Potato', 7889),\n",
       " ('Tomato', 7669),\n",
       " ('Thinly', 7507),\n",
       " ('Chili', 6538),\n",
       " ('Tyrrells', 6442),\n",
       " ('380g', 6418),\n",
       " ('Tangy', 6332),\n",
       " ('270g', 6285),\n",
       " ('Grain', 6272),\n",
       " ('Waves', 6272),\n",
       " ('210g', 6272),\n",
       " ('Lightly', 6248),\n",
       " ('Salted', 6248),\n",
       " ('Soy', 6121),\n",
       " ('Natural', 6050),\n",
       " ('Mild', 6048),\n",
       " ('Red', 5885),\n",
       " ('Rock', 5885),\n",
       " ('Deli', 5885),\n",
       " ('Cheddar', 4844),\n",
       " ('Mozzarella', 4762),\n",
       " ('Thai', 4737),\n",
       " ('Burger', 4733),\n",
       " ('Honey', 4661),\n",
       " ('Nacho', 4658),\n",
       " ('Btroot', 4614),\n",
       " ('Cheezels', 4603),\n",
       " ('Co', 4582),\n",
       " ('Garlic', 4572),\n",
       " ('CCs', 4551),\n",
       " ('200g', 4473),\n",
       " ('Woolworths', 4437),\n",
       " ('Basil', 3304),\n",
       " ('Pesto', 3304),\n",
       " ('Hny', 3296),\n",
       " ('Jlpno', 3296),\n",
       " (',', 3269),\n",
       " ('Chlli', 3269),\n",
       " ('Sr/Cream', 3269),\n",
       " ('Pot', 3257),\n",
       " ('135g', 3257),\n",
       " ('Splash', 3252),\n",
       " ('Of', 3252),\n",
       " ('Mix', 3242),\n",
       " ('Crnkle', 3233),\n",
       " ('Orgnl', 3233),\n",
       " ('Big', 3233),\n",
       " ('Bag', 3233),\n",
       " ('Hot', 3229),\n",
       " ('Spicy', 3229),\n",
       " ('Camembert', 3219),\n",
       " ('Fig', 3219),\n",
       " ('Barbeque', 3210),\n",
       " ('Mexican', 3204),\n",
       " ('Jalapeno', 3204),\n",
       " ('Light', 3188),\n",
       " ('Dorito', 3185),\n",
       " ('Chp', 3185),\n",
       " ('Spcy', 3177),\n",
       " ('Rib', 3174),\n",
       " ('Prawn', 3174),\n",
       " ('Crackers', 3174),\n",
       " ('Southern', 3172),\n",
       " ('250g', 3169),\n",
       " ('Crm', 3159),\n",
       " ('Ricotta', 3146),\n",
       " ('Smoked', 3145),\n",
       " ('Chipotle', 3145),\n",
       " ('Infzns', 3144),\n",
       " ('Crn', 3144),\n",
       " ('Crnchers', 3144),\n",
       " ('Gcamole', 3144),\n",
       " ('Feta', 3138),\n",
       " ('Herbs', 3134),\n",
       " ('Veg', 3134),\n",
       " ('Strws', 3134),\n",
       " ('Siracha', 3127),\n",
       " ('Chnky', 3125),\n",
       " ('Tom', 3125),\n",
       " ('Ht', 3125),\n",
       " ('Mexicana', 3115),\n",
       " ('Seasoned', 3114),\n",
       " ('chicken', 3114),\n",
       " ('Med', 3114),\n",
       " ('Mystery', 3114),\n",
       " ('Flavour', 3114),\n",
       " ('Crips', 3104),\n",
       " ('Slt', 3095),\n",
       " ('Vingar', 3095),\n",
       " ('Sthrn', 3083),\n",
       " ('Fried', 3083),\n",
       " ('Maple', 3083),\n",
       " ('Rings', 3080),\n",
       " ('90g', 3008),\n",
       " ('190g', 2995),\n",
       " ('SR', 2984),\n",
       " ('Stacked', 2970),\n",
       " ('160g', 2970),\n",
       " ('Smith', 2963),\n",
       " ('Chs', 2960),\n",
       " ('S/Cream', 2934),\n",
       " ('Cheetos', 2927),\n",
       " ('Medium', 2879),\n",
       " ('French', 2856),\n",
       " ('Snbts', 1576),\n",
       " ('Whlgrn', 1576),\n",
       " ('Mstrd', 1576),\n",
       " ('Tmato', 1572),\n",
       " ('Hrb', 1572),\n",
       " ('Spce', 1572),\n",
       " ('220g', 1564),\n",
       " ('Vinegr', 1550),\n",
       " ('Tasty', 1539),\n",
       " ('Slow', 1526),\n",
       " ('Rst', 1526),\n",
       " ('Pork', 1526),\n",
       " ('Belly', 1526),\n",
       " ('Roast', 1519),\n",
       " ('Mac', 1512),\n",
       " ('n', 1512),\n",
       " ('Mango', 1507),\n",
       " ('Chutny', 1507),\n",
       " ('Papadums', 1507),\n",
       " ('70g', 1507),\n",
       " ('Coconut', 1506),\n",
       " ('Snag', 1503),\n",
       " ('Sauce', 1503),\n",
       " ('Sp', 1498),\n",
       " ('Truffle', 1498),\n",
       " ('Barbecue', 1489),\n",
       " ('Bacon', 1479),\n",
       " ('Balls', 1479),\n",
       " ('Pepper', 1473),\n",
       " ('D/Style', 1469),\n",
       " ('Compny', 1468),\n",
       " ('Grn', 1468),\n",
       " ('Wves', 1468),\n",
       " ('Plus', 1468),\n",
       " ('Jam', 1468),\n",
       " ('180g', 1468),\n",
       " ('Chli', 1461),\n",
       " ('Hony', 1460),\n",
       " ('Chckn', 1460),\n",
       " ('Steak', 1455),\n",
       " ('Chimuchurri', 1455),\n",
       " ('Box', 1454),\n",
       " ('125g', 1454),\n",
       " ('Bolognese', 1451),\n",
       " ('Puffs', 1448),\n",
       " ('Originl', 1441),\n",
       " ('saltd', 1441),\n",
       " ('Salt/Vinegr', 1440),\n",
       " ('Chikn', 1434),\n",
       " ('Aioli', 1434),\n",
       " ('Sunbites', 1432),\n",
       " ('Whlegrn', 1432),\n",
       " ('Frch/Onion', 1432),\n",
       " ('Pc', 1431),\n",
       " ('NCC', 1419),\n",
       " ('Garden', 1419),\n",
       " ('Fries', 1418)]"
      ]
     },
     "execution_count": 16,
     "metadata": {},
     "output_type": "execute_result"
    }
   ],
   "source": [
    "most_common_words"
   ]
  },
  {
   "cell_type": "code",
   "execution_count": 17,
   "id": "7b9ec772-2aba-4cec-9d30-0f7ce0680d96",
   "metadata": {},
   "outputs": [],
   "source": [
    "# Excluding items not chips products since we are analysing chips product\n",
    "\n",
    "word1 = 'Salsa'       # Define the words to search for\n",
    "word2 = 'Gcamole'\n",
    "\n",
    "# Filter and Modify the original DataFramethe excluding rows with the multiple words above\n",
    "\n",
    "df = df[~df['PROD_NAME'].str.contains(f\"{word1}|{word2}\", case=False, regex=True)]"
   ]
  },
  {
   "cell_type": "code",
   "execution_count": 18,
   "id": "4fee0bc6-e43c-43ec-871a-574ee320f004",
   "metadata": {},
   "outputs": [
    {
     "data": {
      "text/html": [
       "<div>\n",
       "<style scoped>\n",
       "    .dataframe tbody tr th:only-of-type {\n",
       "        vertical-align: middle;\n",
       "    }\n",
       "\n",
       "    .dataframe tbody tr th {\n",
       "        vertical-align: top;\n",
       "    }\n",
       "\n",
       "    .dataframe thead th {\n",
       "        text-align: right;\n",
       "    }\n",
       "</style>\n",
       "<table border=\"1\" class=\"dataframe\">\n",
       "  <thead>\n",
       "    <tr style=\"text-align: right;\">\n",
       "      <th></th>\n",
       "      <th>STORE_NBR</th>\n",
       "      <th>LYLTY_CARD_NBR</th>\n",
       "      <th>TXN_ID</th>\n",
       "      <th>PROD_NBR</th>\n",
       "      <th>PROD_QTY</th>\n",
       "      <th>TOT_SALES</th>\n",
       "    </tr>\n",
       "  </thead>\n",
       "  <tbody>\n",
       "    <tr>\n",
       "      <th>count</th>\n",
       "      <td>243598.000000</td>\n",
       "      <td>2.435980e+05</td>\n",
       "      <td>2.435980e+05</td>\n",
       "      <td>243598.000000</td>\n",
       "      <td>243598.000000</td>\n",
       "      <td>243598.000000</td>\n",
       "    </tr>\n",
       "    <tr>\n",
       "      <th>mean</th>\n",
       "      <td>135.054627</td>\n",
       "      <td>1.355356e+05</td>\n",
       "      <td>1.351350e+05</td>\n",
       "      <td>56.678992</td>\n",
       "      <td>1.908058</td>\n",
       "      <td>7.322218</td>\n",
       "    </tr>\n",
       "    <tr>\n",
       "      <th>std</th>\n",
       "      <td>76.791910</td>\n",
       "      <td>8.075549e+04</td>\n",
       "      <td>7.815406e+04</td>\n",
       "      <td>33.788067</td>\n",
       "      <td>0.663081</td>\n",
       "      <td>3.094537</td>\n",
       "    </tr>\n",
       "    <tr>\n",
       "      <th>min</th>\n",
       "      <td>1.000000</td>\n",
       "      <td>1.000000e+03</td>\n",
       "      <td>1.000000e+00</td>\n",
       "      <td>1.000000</td>\n",
       "      <td>1.000000</td>\n",
       "      <td>1.700000</td>\n",
       "    </tr>\n",
       "    <tr>\n",
       "      <th>25%</th>\n",
       "      <td>70.000000</td>\n",
       "      <td>7.001625e+04</td>\n",
       "      <td>6.757425e+04</td>\n",
       "      <td>26.000000</td>\n",
       "      <td>2.000000</td>\n",
       "      <td>5.800000</td>\n",
       "    </tr>\n",
       "    <tr>\n",
       "      <th>50%</th>\n",
       "      <td>130.000000</td>\n",
       "      <td>1.303670e+05</td>\n",
       "      <td>1.351830e+05</td>\n",
       "      <td>54.000000</td>\n",
       "      <td>2.000000</td>\n",
       "      <td>7.400000</td>\n",
       "    </tr>\n",
       "    <tr>\n",
       "      <th>75%</th>\n",
       "      <td>203.000000</td>\n",
       "      <td>2.030860e+05</td>\n",
       "      <td>2.026628e+05</td>\n",
       "      <td>87.000000</td>\n",
       "      <td>2.000000</td>\n",
       "      <td>8.800000</td>\n",
       "    </tr>\n",
       "    <tr>\n",
       "      <th>max</th>\n",
       "      <td>272.000000</td>\n",
       "      <td>2.373711e+06</td>\n",
       "      <td>2.415841e+06</td>\n",
       "      <td>114.000000</td>\n",
       "      <td>200.000000</td>\n",
       "      <td>650.000000</td>\n",
       "    </tr>\n",
       "  </tbody>\n",
       "</table>\n",
       "</div>"
      ],
      "text/plain": [
       "           STORE_NBR  LYLTY_CARD_NBR        TXN_ID       PROD_NBR  \\\n",
       "count  243598.000000    2.435980e+05  2.435980e+05  243598.000000   \n",
       "mean      135.054627    1.355356e+05  1.351350e+05      56.678992   \n",
       "std        76.791910    8.075549e+04  7.815406e+04      33.788067   \n",
       "min         1.000000    1.000000e+03  1.000000e+00       1.000000   \n",
       "25%        70.000000    7.001625e+04  6.757425e+04      26.000000   \n",
       "50%       130.000000    1.303670e+05  1.351830e+05      54.000000   \n",
       "75%       203.000000    2.030860e+05  2.026628e+05      87.000000   \n",
       "max       272.000000    2.373711e+06  2.415841e+06     114.000000   \n",
       "\n",
       "            PROD_QTY      TOT_SALES  \n",
       "count  243598.000000  243598.000000  \n",
       "mean        1.908058       7.322218  \n",
       "std         0.663081       3.094537  \n",
       "min         1.000000       1.700000  \n",
       "25%         2.000000       5.800000  \n",
       "50%         2.000000       7.400000  \n",
       "75%         2.000000       8.800000  \n",
       "max       200.000000     650.000000  "
      ]
     },
     "execution_count": 18,
     "metadata": {},
     "output_type": "execute_result"
    }
   ],
   "source": [
    "# Summary statistics of numerical columns in the Transaction Dataset \n",
    "\n",
    "df.describe()"
   ]
  },
  {
   "cell_type": "code",
   "execution_count": 19,
   "id": "2846050b-38a6-4252-94a9-d5aee226ea29",
   "metadata": {},
   "outputs": [
    {
     "data": {
      "image/png": "[encoded data removed]",
      "text/plain": [
       "<Figure size 432x288 with 1 Axes>"
      ]
     },
     "metadata": {
      "needs_background": "light"
     },
     "output_type": "display_data"
    }
   ],
   "source": [
    "# Visualize using a scatter plot to identify outliers\n",
    "\n",
    "sns.scatterplot(x = df['PROD_QTY'], y = df['TOT_SALES'])\n",
    "plt.show()"
   ]
  },
  {
   "cell_type": "code",
   "execution_count": 20,
   "id": "09d2ec46-f892-42e1-a97e-1454eea7a156",
   "metadata": {},
   "outputs": [
    {
     "data": {
      "text/html": [
       "<div>\n",
       "<style scoped>\n",
       "    .dataframe tbody tr th:only-of-type {\n",
       "        vertical-align: middle;\n",
       "    }\n",
       "\n",
       "    .dataframe tbody tr th {\n",
       "        vertical-align: top;\n",
       "    }\n",
       "\n",
       "    .dataframe thead th {\n",
       "        text-align: right;\n",
       "    }\n",
       "</style>\n",
       "<table border=\"1\" class=\"dataframe\">\n",
       "  <thead>\n",
       "    <tr style=\"text-align: right;\">\n",
       "      <th></th>\n",
       "      <th>DATE</th>\n",
       "      <th>STORE_NBR</th>\n",
       "      <th>LYLTY_CARD_NBR</th>\n",
       "      <th>TXN_ID</th>\n",
       "      <th>PROD_NBR</th>\n",
       "      <th>PROD_NAME</th>\n",
       "      <th>PROD_QTY</th>\n",
       "      <th>TOT_SALES</th>\n",
       "    </tr>\n",
       "  </thead>\n",
       "  <tbody>\n",
       "    <tr>\n",
       "      <th>69762</th>\n",
       "      <td>2018-08-19</td>\n",
       "      <td>226</td>\n",
       "      <td>226000</td>\n",
       "      <td>226201</td>\n",
       "      <td>4</td>\n",
       "      <td>Dorito Corn Chp Supreme 380g</td>\n",
       "      <td>200</td>\n",
       "      <td>650.0</td>\n",
       "    </tr>\n",
       "    <tr>\n",
       "      <th>69763</th>\n",
       "      <td>2019-05-20</td>\n",
       "      <td>226</td>\n",
       "      <td>226000</td>\n",
       "      <td>226210</td>\n",
       "      <td>4</td>\n",
       "      <td>Dorito Corn Chp Supreme 380g</td>\n",
       "      <td>200</td>\n",
       "      <td>650.0</td>\n",
       "    </tr>\n",
       "  </tbody>\n",
       "</table>\n",
       "</div>"
      ],
      "text/plain": [
       "            DATE  STORE_NBR  LYLTY_CARD_NBR  TXN_ID  PROD_NBR  \\\n",
       "69762 2018-08-19        226          226000  226201         4   \n",
       "69763 2019-05-20        226          226000  226210         4   \n",
       "\n",
       "                          PROD_NAME  PROD_QTY  TOT_SALES  \n",
       "69762  Dorito Corn Chp Supreme 380g       200      650.0  \n",
       "69763  Dorito Corn Chp Supreme 380g       200      650.0  "
      ]
     },
     "execution_count": 20,
     "metadata": {},
     "output_type": "execute_result"
    }
   ],
   "source": [
    "# Filter the Product Quantity Column of the Transaction dataset to find the outliers as viualized above\n",
    "\n",
    "df.loc[df['PROD_QTY'] >= 6]"
   ]
  },
  {
   "cell_type": "code",
   "execution_count": 21,
   "id": "9902e6b9-fbdc-47ef-88e2-ab18e06e4529",
   "metadata": {},
   "outputs": [
    {
     "data": {
      "text/html": [
       "<div>\n",
       "<style scoped>\n",
       "    .dataframe tbody tr th:only-of-type {\n",
       "        vertical-align: middle;\n",
       "    }\n",
       "\n",
       "    .dataframe tbody tr th {\n",
       "        vertical-align: top;\n",
       "    }\n",
       "\n",
       "    .dataframe thead th {\n",
       "        text-align: right;\n",
       "    }\n",
       "</style>\n",
       "<table border=\"1\" class=\"dataframe\">\n",
       "  <thead>\n",
       "    <tr style=\"text-align: right;\">\n",
       "      <th></th>\n",
       "      <th>DATE</th>\n",
       "      <th>STORE_NBR</th>\n",
       "      <th>LYLTY_CARD_NBR</th>\n",
       "      <th>TXN_ID</th>\n",
       "      <th>PROD_NBR</th>\n",
       "      <th>PROD_NAME</th>\n",
       "      <th>PROD_QTY</th>\n",
       "      <th>TOT_SALES</th>\n",
       "    </tr>\n",
       "  </thead>\n",
       "  <tbody>\n",
       "    <tr>\n",
       "      <th>69762</th>\n",
       "      <td>2018-08-19</td>\n",
       "      <td>226</td>\n",
       "      <td>226000</td>\n",
       "      <td>226201</td>\n",
       "      <td>4</td>\n",
       "      <td>Dorito Corn Chp Supreme 380g</td>\n",
       "      <td>200</td>\n",
       "      <td>650.0</td>\n",
       "    </tr>\n",
       "    <tr>\n",
       "      <th>69763</th>\n",
       "      <td>2019-05-20</td>\n",
       "      <td>226</td>\n",
       "      <td>226000</td>\n",
       "      <td>226210</td>\n",
       "      <td>4</td>\n",
       "      <td>Dorito Corn Chp Supreme 380g</td>\n",
       "      <td>200</td>\n",
       "      <td>650.0</td>\n",
       "    </tr>\n",
       "  </tbody>\n",
       "</table>\n",
       "</div>"
      ],
      "text/plain": [
       "            DATE  STORE_NBR  LYLTY_CARD_NBR  TXN_ID  PROD_NBR  \\\n",
       "69762 2018-08-19        226          226000  226201         4   \n",
       "69763 2019-05-20        226          226000  226210         4   \n",
       "\n",
       "                          PROD_NAME  PROD_QTY  TOT_SALES  \n",
       "69762  Dorito Corn Chp Supreme 380g       200      650.0  \n",
       "69763  Dorito Corn Chp Supreme 380g       200      650.0  "
      ]
     },
     "execution_count": 21,
     "metadata": {},
     "output_type": "execute_result"
    }
   ],
   "source": [
    "# Filtering out the customer based on the loyalty card number and finding out other purchases by the customer\n",
    "\n",
    "df.loc[df['LYLTY_CARD_NBR'] == 226000]"
   ]
  },
  {
   "cell_type": "code",
   "execution_count": 22,
   "id": "c8d743d9-812e-406e-b897-03edbbe0be2d",
   "metadata": {},
   "outputs": [],
   "source": [
    "# Filter rows where 'PROD_QTY' is equal to 200\n",
    "\n",
    "condition = df['PROD_QTY'] == 200\n",
    "\n",
    "# Drop rows that meet the condition\n",
    "\n",
    "df.drop(df[condition].index, inplace=True)"
   ]
  },
  {
   "cell_type": "code",
   "execution_count": 23,
   "id": "c90e6537-27a4-4be3-9a89-897c30f7d316",
   "metadata": {},
   "outputs": [],
   "source": [
    "# Dropping columns that are redundant and will not be used in the transaction dataset only.\n",
    "\n",
    "df = df.drop(['PROD_NBR'], axis = 1)"
   ]
  },
  {
   "cell_type": "code",
   "execution_count": 24,
   "id": "89e3b48c-d846-4981-bf35-b3350d423545",
   "metadata": {},
   "outputs": [],
   "source": [
    "# Remove white spaces in column 'PROD_NAME'\n",
    "\n",
    "df['PROD_NAME'] = df['PROD_NAME'].str.strip()"
   ]
  },
  {
   "cell_type": "code",
   "execution_count": 25,
   "id": "3380bdd9-67c1-40fc-949b-e6ddad7ffbd0",
   "metadata": {},
   "outputs": [],
   "source": [
    "# Groupby 'Date', count and sort the number of sales transactions by number of transactions\n",
    "\n",
    "sales_count_by_date = df.groupby(by='DATE')['TOT_SALES'].count().sort_index(ascending=True)"
   ]
  },
  {
   "cell_type": "code",
   "execution_count": 26,
   "id": "0afa1d46-260a-4d19-8e96-f6b86af2160d",
   "metadata": {},
   "outputs": [
    {
     "data": {
      "image/png": "[encoded data removed]",
      "text/plain": [
       "<Figure size 1080x576 with 1 Axes>"
      ]
     },
     "metadata": {
      "needs_background": "light"
     },
     "output_type": "display_data"
    }
   ],
   "source": [
    "# Plot the transaction count on a line graph\n",
    "\n",
    "plt.figure(figsize = (15, 8))\n",
    "sales_count_by_date.plot(kind = 'line')\n",
    "plt.xlabel('DATE')\n",
    "plt.ylabel('COUNT')\n",
    "plt.title('TRANSACTIONS')\n",
    "plt.xticks(rotation = 45)\n",
    "plt.show()"
   ]
  },
  {
   "cell_type": "code",
   "execution_count": 27,
   "id": "4a28103e-18d2-4b45-a474-0f1f9f156883",
   "metadata": {},
   "outputs": [],
   "source": [
    "# Then extract month and year from 'DATE' column\n",
    "df['MONTH'] = df['DATE'].dt.month\n",
    "df['YEAR'] = df['DATE'].dt.year\n",
    "\n",
    "# Filter for specific month and year\n",
    "desired_month = 12\n",
    "desired_year = 2018\n",
    "filtered_df = df[(df['MONTH'] == desired_month) & (df['YEAR'] == desired_year)]\n",
    "\n",
    "# Filter,Groupby 'DATE' and count sales transactions for the individual days in December 2018\n",
    "dec_sales_count_by_date = filtered_df.groupby(by='DATE')['TOT_SALES'].count().sort_index(ascending=True)"
   ]
  },
  {
   "cell_type": "code",
   "execution_count": 28,
   "id": "224751a8-0383-4a8e-8034-a35676947fe8",
   "metadata": {},
   "outputs": [
    {
     "data": {
      "image/png": "[encoded data removed]",
      "text/plain": [
       "<Figure size 1080x576 with 1 Axes>"
      ]
     },
     "metadata": {
      "needs_background": "light"
     },
     "output_type": "display_data"
    }
   ],
   "source": [
    "# Plotting the December Daily Sales Count\n",
    "\n",
    "plt.figure(figsize =  (15, 8))\n",
    "dec_sales_count_by_date.plot(kind = 'line')\n",
    "plt.xlabel('DATE')\n",
    "plt.ylabel('SALES COUNTS')\n",
    "plt.title('DECEMBER SALES COUNT')\n",
    "plt.xticks(rotation = 45)\n",
    "plt.show()"
   ]
  },
  {
   "cell_type": "code",
   "execution_count": 29,
   "id": "382e1273-5916-416c-8e76-c35989eba361",
   "metadata": {},
   "outputs": [],
   "source": [
    "# Extract the numerical values from the PROD_NAME column and create a New Column PACK_SIZE\n",
    "\n",
    "df['PACK_SIZE'] = df['PROD_NAME'].str.extract('(\\d+)').astype(int)\n",
    "\n",
    "# Sort the dataframe by new PACK_SIZE column in ascending order\n",
    "\n",
    "df = df.sort_values('PACK_SIZE')\n",
    "\n",
    "# Add 'g' to the PACK_SIZE values\n",
    "\n",
    "df['PACK_SIZE'] = df['PACK_SIZE'].astype(str) + 'g'"
   ]
  },
  {
   "cell_type": "code",
   "execution_count": 30,
   "id": "d3595751-01c3-4ea2-9cd5-f79f9ac99655",
   "metadata": {},
   "outputs": [],
   "source": [
    "# Group by pack size to find out quantity sold per package size\n",
    "\n",
    "quant_sold_per_package_size = df.groupby(by='PACK_SIZE')['PROD_QTY'].sum()\n"
   ]
  },
  {
   "cell_type": "code",
   "execution_count": 31,
   "id": "8f5def88-229a-4e97-b504-dfd51988e4bd",
   "metadata": {},
   "outputs": [
    {
     "data": {
      "text/plain": [
       "PACK_SIZE\n",
       "110g     36835\n",
       "125g      2730\n",
       "134g     48019\n",
       "135g      6212\n",
       "150g     76662\n",
       "160g      5604\n",
       "165g     29051\n",
       "170g     38088\n",
       "175g    126467\n",
       "180g      2764\n",
       "190g      5673\n",
       "200g      8425\n",
       "210g     11962\n",
       "220g      2970\n",
       "250g      6069\n",
       "270g     12049\n",
       "330g     23999\n",
       "380g     12273\n",
       "70g       2855\n",
       "90g       5692\n",
       "Name: PROD_QTY, dtype: int64"
      ]
     },
     "execution_count": 31,
     "metadata": {},
     "output_type": "execute_result"
    }
   ],
   "source": [
    "quant_sold_per_package_size"
   ]
  },
  {
   "cell_type": "code",
   "execution_count": 32,
   "id": "5d76103a-b44e-41d5-9b54-9588b47273a2",
   "metadata": {},
   "outputs": [
    {
     "data": {
      "image/png": "[encoded data removed]",
      "text/plain": [
       "<Figure size 720x432 with 1 Axes>"
      ]
     },
     "metadata": {
      "needs_background": "light"
     },
     "output_type": "display_data"
    }
   ],
   "source": [
    "plt.figure(figsize = (10, 6))\n",
    "plt.title('TRANSACTIONS BY PACK SIZE')\n",
    "plt.hist(df['PACK_SIZE'], edgecolor='black',bins=10,label='Pack Sizes')\n",
    "plt.legend(loc='upper right')\n",
    "plt.xlabel('Pack Size')\n",
    "plt.ylabel('Number of transactions by pack size')\n",
    "plt.xticks(rotation = 90)\n",
    "plt.show()"
   ]
  },
  {
   "cell_type": "code",
   "execution_count": 33,
   "id": "d62d0b49-207e-4de4-bccf-2ddaa2df8fd9",
   "metadata": {},
   "outputs": [],
   "source": [
    "# Make some corrections on some of the products brand name\n",
    "\n",
    "df = df.replace({'Infuzions Mango Chutny Papadums':'Infuzions Mango Chutney Poppadoms','Sunbites Whlegrn Crisps Frch/Onion':'Sunbites Wholegrain Crisps French Onion','Infuzions Sour Cream & Herbs Veg Strws':'Infuzions Sour Cream & Herb Veggie Straws','Cobs Popd Sour Crm & Chives Chips':'Cobs Popd Chips Sour Cream & Chives','Cobs Popd Swt, Chlli & Sr/Cream Chips':'Cobs Popd Sweet Chilli and Sour Cream','Pringles Sthrn Fried Chicken':'Pringles Southern Fried Chicken','Pringles Slt Vingar':'Pringles Salt Vinegar','Pringles Sweet & Spcy BBQ':'Pringles Sweet & Spicy BBQ','Kettle Swt Pot Sea Salt':'Kettle Sweet Potato Sea Salt','Kettle Tortilla Chps Hny & Jlpno Chili':'Kettle Tortilla Chips Honey & Jalapeno Chili','Kettle Sensations Siracha Lime':'Kettle Sensations Sriracha Lime','Smith Crinkle Cut Mac n Cheese':\"Smith's Crinkle Cut Mac N Cheese\",'Red Rock Deli Steak & Chimuchurri':'Red Rock Deli Steak & Chimichurri','Red Rock Deli SR Slow Rst Pork Belly':'Red Rock Deli SR Slow Roast Pork Belly','Kettle Tortilla Chps Btroot & Ricotta':'Kettle Tortilla Chips Beetroot and Ricotta','Red Rock Deli Sp Salt & Truffle':'Red Rock Deli Special Reserve Sea Salt & Black Truffle','Red Rock Deli Chikn & Garlic Aioli':'Red Rock Deli Chicken & Garlic Aioli','Smiths Crinkle Cut Snag & Sauce':\"Smith's Crinkle Cut Snag & Sauce\",'Smith Crinkle Cut Bolognese':\"Smith's Crinkle Cut Bolognese\",'Red Rock Deli Pc Sea Salt':'Red Rock Deli Sea Salt Potato Chips','Smiths Crinkle Cut Chips Chicken':\"Smith's Crinkle Cut Chips Chicken\",'Smiths Crinkle Cut Chips Barbecue':\"Smith's Crinkle Cut Chips Barbecue\",'Smiths Crinkle Cut Chips Original':\"Smith's Crinkle Cut Chips Original\",'Smiths Crinkle Cut Chips Chs & Onion':\"Smith's Crinkle Cut Cheese & Onion Potato Chips\",'Doritos Mexicana':'Doritos Corn Chips Mexicana','Natural Chip Company Tmato Hrb & Spce':'The Natural Chip Company Tomato Herb & Spice','Natural Chip Company Hony Soy Chckn':'The Natural Chip Company Honey Soy Chicken','Smiths Chip Thinly Cut Original':\"Smith's Chip Thinly Cut Original\",'Thins Chips Hot & Spicy':'Thins Hot & Spicy Potato Chips','Smiths Chip Thinly Cut Salt/Vinegr':\"Smith's Thinly Cut Salt & Vinegar Potato Chips\",'NCC Sour Cream & Garden Chives':'The Natural Chip Company Sour Cream & Garden Chives','Thins Chips Originl saltd':'Thins Chips Original salted','Natural Chip Company Sea Salt & Vinegr':'The Natural Chip Company Sea Salt & Vinegar','Smiths Thinly Cut Roast Chicken':\"Smith's Thinly Cut Roast Chicken\",'Smiths Chip Thinly Cut Original':\"Smith's Chip Thinly Cut Original\",'Smiths Chip Thinly S/Cream & Onion':\"Smith's Thinly Cut Sour Cream & Onion Potato Chips\",'Natural Chip Companympny Sea Salt':'The Natural Chip Company Sea Salt','Smiths Thinly Swt Chli & S/Cream':\"Smith's Thinly Cut Chips Sweet Chilli & Sour Cream\",'Grn Wves Plus Btroot & Chilli Jam':'Sunbites Grain Waves Plus Beetroot Sweet Chilli Jam','Cheetos Chs & Bacon Balls':'Cheetos Cheese & Bacon Balls','Woolworths D/Style Chip Sea Salt':'Woolworths Deli Style Chips Sea Salt','Grain Waves Sweet Chilli':'Sunbites Grain Waves Sweet Chilli','Grain Waves Sour Cream & Chives':'Sunbites Grain Waves Sour Cream & Chives','Smiths Crinkle Original':\"Smith's Crinkle Original\",'Smiths Crinkle Chips Salt & Vinegar':\"Smith's Crinkle Chips Salt & Vinegar\",'Smiths Crnkle Chip Orgnl Big Bag':\"Smith's Crinkle Chip Original Big Bag\",'Dorito Corn Chp Supreme':'Doritos Corn Cheese Supreme','Natural Chip Co Tmato Hrb & Spce':'The Natural Chip Company Tomato Herbs and Spices','Natural Chip Co Hony Soy Chckn':'The Natural Chip Company Honey Soy Chicken','WW Crinkle Cut Chicken':'Woolworths Crinkle Cut Chicken', 'Natural Chip Co Sea Salt & Vinegr':'The Natural Chip Company Sea Salt & Vinegar','WW Crinkle Cut Original':'Woolworths Crinkle Cut Original','Snbts Whlgrn Crisps Cheddar & Mstrd':'Sunbites Wholegrain Crisps Cheddar & Mustard','RRD Chilli & Coconut':'Red Rock Deli Chilli and Coconut Potato Chips', 'RRD Steak & Chimuchurri':'Red Rock Deli Steak & Chimichurri','RRD SR Slow Rst Pork Belly':'Red Rock Deli SR Slow Roast Pork Belly','WW Sour Cream & Onion Stacked Chips':'Woolworths Sour Cream & Onion Stacked Chips','Smiths Crinkle Cut French Onion Dip':\"Smith's Crinkle Cut French Onion Dip\",'WW Original Stacked Chips':'Woolworths Original Stacked Chips','RRD Salt & Vinegar':'Red Rock Deli Salt & Vinegar','RRD Sweet Chilli & Sour Cream':'Red Rock Deli Chilli & Sour Cream','RRD Honey Soy Chicken':'Red Rock Deli Honey Soy Chicken','RRD Lime & Pepper':'Red Rock Deli Lime & Pepper','RRD Pc Sea Salt':'Red Rock Deli Potato Chips Sea Salt','Smiths Crinkle Cut Salt & Vinegar':\"Smith's Crinkle Cut Salt & Vinegar\",'Natural Chip Compny Sea Salt':'The Natural Chip Company Sea Salt','WW Original Corn Chips':'Woolworths Original Corn Chips','WW Supreme Cheese Corn Chips':'Woolworths Supreme Cheese Corn Chips','WW D/Style Chip Sea Salt':'Woolworths Deli Style Chips Sea Salt'}, regex = True)"
   ]
  },
  {
   "cell_type": "code",
   "execution_count": 34,
   "id": "5221bccb-837f-48ed-99aa-57f6d5f127cf",
   "metadata": {},
   "outputs": [],
   "source": [
    "# define a list of brand names\n",
    "\n",
    "brand_list = ['Infuzions','Sunbites', \"Smith's\" ,'Doritos','Pringles','Cobs Popd','Kettle','Red Rock Deli','The Natural Chip Company','Thins','Burger','Cheezels','CCs','Tostitos','French Fries','Cheetos','Woolworths','Tyrrells','Twisties']\n",
    "\n",
    "# create a regular expression pattern that matches the brand names\n",
    "\n",
    "pattern = '|'.join(brand_list)\n",
    "\n",
    "# extract the brand name from the 'PROD_NAME' column and place it in a new column 'BRAND_NAME'\n",
    "\n",
    "df['BRAND_NAME'] = df['PROD_NAME'].str.extract(f'({pattern})')"
   ]
  },
  {
   "cell_type": "code",
   "execution_count": 35,
   "id": "fdcb9e0e-6b16-4cfd-84b0-d757c445e410",
   "metadata": {},
   "outputs": [
    {
     "data": {
      "text/html": [
       "<div>\n",
       "<style scoped>\n",
       "    .dataframe tbody tr th:only-of-type {\n",
       "        vertical-align: middle;\n",
       "    }\n",
       "\n",
       "    .dataframe tbody tr th {\n",
       "        vertical-align: top;\n",
       "    }\n",
       "\n",
       "    .dataframe thead th {\n",
       "        text-align: right;\n",
       "    }\n",
       "</style>\n",
       "<table border=\"1\" class=\"dataframe\">\n",
       "  <thead>\n",
       "    <tr style=\"text-align: right;\">\n",
       "      <th></th>\n",
       "      <th>DATE</th>\n",
       "      <th>STORE_NBR</th>\n",
       "      <th>LYLTY_CARD_NBR</th>\n",
       "      <th>TXN_ID</th>\n",
       "      <th>PROD_NAME</th>\n",
       "      <th>PROD_QTY</th>\n",
       "      <th>TOT_SALES</th>\n",
       "      <th>MONTH</th>\n",
       "      <th>YEAR</th>\n",
       "      <th>PACK_SIZE</th>\n",
       "      <th>BRAND_NAME</th>\n",
       "    </tr>\n",
       "  </thead>\n",
       "  <tbody>\n",
       "    <tr>\n",
       "      <th>206516</th>\n",
       "      <td>2018-07-07</td>\n",
       "      <td>55</td>\n",
       "      <td>55037</td>\n",
       "      <td>48666</td>\n",
       "      <td>Infuzions Mango Chutney Poppadoms 70g</td>\n",
       "      <td>2</td>\n",
       "      <td>4.8</td>\n",
       "      <td>7</td>\n",
       "      <td>2018</td>\n",
       "      <td>70g</td>\n",
       "      <td>Infuzions</td>\n",
       "    </tr>\n",
       "    <tr>\n",
       "      <th>55240</th>\n",
       "      <td>2018-08-15</td>\n",
       "      <td>28</td>\n",
       "      <td>28194</td>\n",
       "      <td>25680</td>\n",
       "      <td>Infuzions Mango Chutney Poppadoms 70g</td>\n",
       "      <td>3</td>\n",
       "      <td>7.2</td>\n",
       "      <td>8</td>\n",
       "      <td>2018</td>\n",
       "      <td>70g</td>\n",
       "      <td>Infuzions</td>\n",
       "    </tr>\n",
       "    <tr>\n",
       "      <th>225961</th>\n",
       "      <td>2019-03-01</td>\n",
       "      <td>208</td>\n",
       "      <td>208087</td>\n",
       "      <td>206599</td>\n",
       "      <td>Infuzions Mango Chutney Poppadoms 70g</td>\n",
       "      <td>2</td>\n",
       "      <td>4.8</td>\n",
       "      <td>3</td>\n",
       "      <td>2019</td>\n",
       "      <td>70g</td>\n",
       "      <td>Infuzions</td>\n",
       "    </tr>\n",
       "    <tr>\n",
       "      <th>68678</th>\n",
       "      <td>2018-08-24</td>\n",
       "      <td>259</td>\n",
       "      <td>259028</td>\n",
       "      <td>257587</td>\n",
       "      <td>Infuzions Mango Chutney Poppadoms 70g</td>\n",
       "      <td>2</td>\n",
       "      <td>4.8</td>\n",
       "      <td>8</td>\n",
       "      <td>2018</td>\n",
       "      <td>70g</td>\n",
       "      <td>Infuzions</td>\n",
       "    </tr>\n",
       "    <tr>\n",
       "      <th>55211</th>\n",
       "      <td>2018-08-15</td>\n",
       "      <td>10</td>\n",
       "      <td>10125</td>\n",
       "      <td>9779</td>\n",
       "      <td>Infuzions Mango Chutney Poppadoms 70g</td>\n",
       "      <td>1</td>\n",
       "      <td>2.4</td>\n",
       "      <td>8</td>\n",
       "      <td>2018</td>\n",
       "      <td>70g</td>\n",
       "      <td>Infuzions</td>\n",
       "    </tr>\n",
       "  </tbody>\n",
       "</table>\n",
       "</div>"
      ],
      "text/plain": [
       "             DATE  STORE_NBR  LYLTY_CARD_NBR  TXN_ID  \\\n",
       "206516 2018-07-07         55           55037   48666   \n",
       "55240  2018-08-15         28           28194   25680   \n",
       "225961 2019-03-01        208          208087  206599   \n",
       "68678  2018-08-24        259          259028  257587   \n",
       "55211  2018-08-15         10           10125    9779   \n",
       "\n",
       "                                    PROD_NAME  PROD_QTY  TOT_SALES  MONTH  \\\n",
       "206516  Infuzions Mango Chutney Poppadoms 70g         2        4.8      7   \n",
       "55240   Infuzions Mango Chutney Poppadoms 70g         3        7.2      8   \n",
       "225961  Infuzions Mango Chutney Poppadoms 70g         2        4.8      3   \n",
       "68678   Infuzions Mango Chutney Poppadoms 70g         2        4.8      8   \n",
       "55211   Infuzions Mango Chutney Poppadoms 70g         1        2.4      8   \n",
       "\n",
       "        YEAR PACK_SIZE BRAND_NAME  \n",
       "206516  2018       70g  Infuzions  \n",
       "55240   2018       70g  Infuzions  \n",
       "225961  2019       70g  Infuzions  \n",
       "68678   2018       70g  Infuzions  \n",
       "55211   2018       70g  Infuzions  "
      ]
     },
     "execution_count": 35,
     "metadata": {},
     "output_type": "execute_result"
    }
   ],
   "source": [
    "# Final Clean Transaction Dataset\n",
    "\n",
    "df.head()"
   ]
  },
  {
   "cell_type": "code",
   "execution_count": 36,
   "id": "98a086de-515d-4394-9270-0b797cca3b0f",
   "metadata": {},
   "outputs": [
    {
     "data": {
      "text/html": [
       "<div>\n",
       "<style scoped>\n",
       "    .dataframe tbody tr th:only-of-type {\n",
       "        vertical-align: middle;\n",
       "    }\n",
       "\n",
       "    .dataframe tbody tr th {\n",
       "        vertical-align: top;\n",
       "    }\n",
       "\n",
       "    .dataframe thead th {\n",
       "        text-align: right;\n",
       "    }\n",
       "</style>\n",
       "<table border=\"1\" class=\"dataframe\">\n",
       "  <thead>\n",
       "    <tr style=\"text-align: right;\">\n",
       "      <th></th>\n",
       "      <th>LYLTY_CARD_NBR</th>\n",
       "      <th>LIFESTAGE</th>\n",
       "      <th>PREMIUM_CUSTOMER</th>\n",
       "    </tr>\n",
       "  </thead>\n",
       "  <tbody>\n",
       "    <tr>\n",
       "      <th>0</th>\n",
       "      <td>1000</td>\n",
       "      <td>YOUNG SINGLES/COUPLES</td>\n",
       "      <td>Premium</td>\n",
       "    </tr>\n",
       "    <tr>\n",
       "      <th>1</th>\n",
       "      <td>1002</td>\n",
       "      <td>YOUNG SINGLES/COUPLES</td>\n",
       "      <td>Mainstream</td>\n",
       "    </tr>\n",
       "    <tr>\n",
       "      <th>2</th>\n",
       "      <td>1003</td>\n",
       "      <td>YOUNG FAMILIES</td>\n",
       "      <td>Budget</td>\n",
       "    </tr>\n",
       "    <tr>\n",
       "      <th>3</th>\n",
       "      <td>1004</td>\n",
       "      <td>OLDER SINGLES/COUPLES</td>\n",
       "      <td>Mainstream</td>\n",
       "    </tr>\n",
       "    <tr>\n",
       "      <th>4</th>\n",
       "      <td>1005</td>\n",
       "      <td>MIDAGE SINGLES/COUPLES</td>\n",
       "      <td>Mainstream</td>\n",
       "    </tr>\n",
       "  </tbody>\n",
       "</table>\n",
       "</div>"
      ],
      "text/plain": [
       "   LYLTY_CARD_NBR               LIFESTAGE PREMIUM_CUSTOMER\n",
       "0            1000   YOUNG SINGLES/COUPLES          Premium\n",
       "1            1002   YOUNG SINGLES/COUPLES       Mainstream\n",
       "2            1003          YOUNG FAMILIES           Budget\n",
       "3            1004   OLDER SINGLES/COUPLES       Mainstream\n",
       "4            1005  MIDAGE SINGLES/COUPLES       Mainstream"
      ]
     },
     "execution_count": 36,
     "metadata": {},
     "output_type": "execute_result"
    }
   ],
   "source": [
    "# The first rows of the Customers Data\n",
    "\n",
    "df2.head()"
   ]
  },
  {
   "cell_type": "code",
   "execution_count": 37,
   "id": "0c7bdb43-71b1-4874-84b5-dfe4fd5f9b8a",
   "metadata": {},
   "outputs": [
    {
     "name": "stdout",
     "output_type": "stream",
     "text": [
      "<class 'pandas.core.frame.DataFrame'>\n",
      "RangeIndex: 72637 entries, 0 to 72636\n",
      "Data columns (total 3 columns):\n",
      " #   Column            Non-Null Count  Dtype \n",
      "---  ------            --------------  ----- \n",
      " 0   LYLTY_CARD_NBR    72637 non-null  int64 \n",
      " 1   LIFESTAGE         72637 non-null  object\n",
      " 2   PREMIUM_CUSTOMER  72637 non-null  object\n",
      "dtypes: int64(1), object(2)\n",
      "memory usage: 1.7+ MB\n"
     ]
    }
   ],
   "source": [
    "# Summary basic information of the Customer Dataset\n",
    "\n",
    "df2.info()"
   ]
  },
  {
   "cell_type": "code",
   "execution_count": 38,
   "id": "17f14703-69cb-42e1-bfd8-ae12c25749a2",
   "metadata": {},
   "outputs": [
    {
     "data": {
      "text/html": [
       "<div>\n",
       "<style scoped>\n",
       "    .dataframe tbody tr th:only-of-type {\n",
       "        vertical-align: middle;\n",
       "    }\n",
       "\n",
       "    .dataframe tbody tr th {\n",
       "        vertical-align: top;\n",
       "    }\n",
       "\n",
       "    .dataframe thead th {\n",
       "        text-align: right;\n",
       "    }\n",
       "</style>\n",
       "<table border=\"1\" class=\"dataframe\">\n",
       "  <thead>\n",
       "    <tr style=\"text-align: right;\">\n",
       "      <th></th>\n",
       "      <th>LYLTY_CARD_NBR</th>\n",
       "    </tr>\n",
       "  </thead>\n",
       "  <tbody>\n",
       "    <tr>\n",
       "      <th>count</th>\n",
       "      <td>7.263700e+04</td>\n",
       "    </tr>\n",
       "    <tr>\n",
       "      <th>mean</th>\n",
       "      <td>1.361859e+05</td>\n",
       "    </tr>\n",
       "    <tr>\n",
       "      <th>std</th>\n",
       "      <td>8.989293e+04</td>\n",
       "    </tr>\n",
       "    <tr>\n",
       "      <th>min</th>\n",
       "      <td>1.000000e+03</td>\n",
       "    </tr>\n",
       "    <tr>\n",
       "      <th>25%</th>\n",
       "      <td>6.620200e+04</td>\n",
       "    </tr>\n",
       "    <tr>\n",
       "      <th>50%</th>\n",
       "      <td>1.340400e+05</td>\n",
       "    </tr>\n",
       "    <tr>\n",
       "      <th>75%</th>\n",
       "      <td>2.033750e+05</td>\n",
       "    </tr>\n",
       "    <tr>\n",
       "      <th>max</th>\n",
       "      <td>2.373711e+06</td>\n",
       "    </tr>\n",
       "  </tbody>\n",
       "</table>\n",
       "</div>"
      ],
      "text/plain": [
       "       LYLTY_CARD_NBR\n",
       "count    7.263700e+04\n",
       "mean     1.361859e+05\n",
       "std      8.989293e+04\n",
       "min      1.000000e+03\n",
       "25%      6.620200e+04\n",
       "50%      1.340400e+05\n",
       "75%      2.033750e+05\n",
       "max      2.373711e+06"
      ]
     },
     "execution_count": 38,
     "metadata": {},
     "output_type": "execute_result"
    }
   ],
   "source": [
    "# Summary statistics of numerical columns in the Customer Dataset\n",
    "\n",
    "df2.describe()"
   ]
  },
  {
   "cell_type": "code",
   "execution_count": 39,
   "id": "4f8b1180-ad43-476b-8a93-7ce4e11e3efa",
   "metadata": {},
   "outputs": [],
   "source": [
    "# Count for unique values in each column in the Customer Dataset\n",
    "\n",
    "unique_count = df2.nunique()"
   ]
  },
  {
   "cell_type": "code",
   "execution_count": 40,
   "id": "c90bb456-2676-464c-9bf6-e1793d6e4baf",
   "metadata": {},
   "outputs": [
    {
     "data": {
      "text/plain": [
       "LYLTY_CARD_NBR      72637\n",
       "LIFESTAGE               7\n",
       "PREMIUM_CUSTOMER        3\n",
       "dtype: int64"
      ]
     },
     "execution_count": 40,
     "metadata": {},
     "output_type": "execute_result"
    }
   ],
   "source": [
    "unique_count"
   ]
  },
  {
   "cell_type": "code",
   "execution_count": 41,
   "id": "f4100c00-a6f0-41c2-90a5-0923fdc016ae",
   "metadata": {},
   "outputs": [
    {
     "data": {
      "text/plain": [
       "RETIREES                  14805\n",
       "OLDER SINGLES/COUPLES     14609\n",
       "YOUNG SINGLES/COUPLES     14441\n",
       "OLDER FAMILIES             9780\n",
       "YOUNG FAMILIES             9178\n",
       "MIDAGE SINGLES/COUPLES     7275\n",
       "NEW FAMILIES               2549\n",
       "Name: LIFESTAGE, dtype: int64"
      ]
     },
     "execution_count": 41,
     "metadata": {},
     "output_type": "execute_result"
    }
   ],
   "source": [
    "# Distribution of LIFESTAGE column\n",
    "\n",
    "df2['LIFESTAGE'].value_counts()"
   ]
  },
  {
   "cell_type": "code",
   "execution_count": 42,
   "id": "96ca9822-7d45-4219-b903-47b1df731362",
   "metadata": {},
   "outputs": [
    {
     "data": {
      "text/plain": [
       "Mainstream    29245\n",
       "Budget        24470\n",
       "Premium       18922\n",
       "Name: PREMIUM_CUSTOMER, dtype: int64"
      ]
     },
     "execution_count": 42,
     "metadata": {},
     "output_type": "execute_result"
    }
   ],
   "source": [
    "# Distribution of PREMIUM_CUSTOMER column\n",
    "\n",
    "df2['PREMIUM_CUSTOMER'].value_counts()"
   ]
  },
  {
   "cell_type": "code",
   "execution_count": 43,
   "id": "2e619fc7-8a13-446b-b32a-b6409fccb2d4",
   "metadata": {},
   "outputs": [],
   "source": [
    "# Merge the Transaction Dataset and Customer Dataset on the LYLTY_CARD_NBR column.\n",
    "\n",
    "merged_df = pd.merge(df, df2, on='LYLTY_CARD_NBR')"
   ]
  },
  {
   "cell_type": "code",
   "execution_count": 44,
   "id": "3a8f048b-9b7e-4e20-a4a9-061907cc91e5",
   "metadata": {},
   "outputs": [],
   "source": [
    "# Check and display duplicates in the mergered table\n",
    "\n",
    "duplicates = merged_df[merged_df.duplicated(keep=False)]"
   ]
  },
  {
   "cell_type": "code",
   "execution_count": 45,
   "id": "a0c3384d-5b72-489b-9e06-f6d06665bbac",
   "metadata": {},
   "outputs": [],
   "source": [
    "# Remove duplicates and keeping the first occurrence\n",
    "\n",
    "merged_df.drop_duplicates(keep='first', inplace=True)"
   ]
  },
  {
   "cell_type": "code",
   "execution_count": 46,
   "id": "c1ed9a2c-fce9-46fd-b550-1288e5b507fa",
   "metadata": {},
   "outputs": [
    {
     "data": {
      "text/plain": [
       "DATE                0\n",
       "STORE_NBR           0\n",
       "LYLTY_CARD_NBR      0\n",
       "TXN_ID              0\n",
       "PROD_NAME           0\n",
       "PROD_QTY            0\n",
       "TOT_SALES           0\n",
       "MONTH               0\n",
       "YEAR                0\n",
       "PACK_SIZE           0\n",
       "BRAND_NAME          0\n",
       "LIFESTAGE           0\n",
       "PREMIUM_CUSTOMER    0\n",
       "dtype: int64"
      ]
     },
     "execution_count": 46,
     "metadata": {},
     "output_type": "execute_result"
    }
   ],
   "source": [
    "merged_df.isna().sum() "
   ]
  },
  {
   "cell_type": "code",
   "execution_count": 47,
   "id": "37d6f43d-0bbc-478c-bc5d-8d88978ff48f",
   "metadata": {},
   "outputs": [],
   "source": [
    "# To calculate the summary of sales by the columns LIFESTAGE and PREMIUM_CUSTOMER in a df\n",
    "\n",
    "sales_summary = merged_df.groupby(['LIFESTAGE','PREMIUM_CUSTOMER'])['TOT_SALES'].sum().reset_index()"
   ]
  },
  {
   "cell_type": "code",
   "execution_count": 48,
   "id": "d03ae4c0-5854-4108-8854-fdea087caef6",
   "metadata": {},
   "outputs": [],
   "source": [
    "# Calculate total sales\n",
    "\n",
    "total_sales = sales_summary['TOT_SALES'].sum()"
   ]
  },
  {
   "cell_type": "code",
   "execution_count": 49,
   "id": "1f035165-b4df-4604-9f13-16572a4f71c1",
   "metadata": {},
   "outputs": [
    {
     "data": {
      "image/png": "[encoded data removed]",
      "text/plain": [
       "<Figure size 720x432 with 1 Axes>"
      ]
     },
     "metadata": {
      "needs_background": "light"
     },
     "output_type": "display_data"
    }
   ],
   "source": [
    "# Plotting a bar chart of the split by these segments to know how each customer segment performed.\n",
    "\n",
    "plt.figure(figsize=(10, 6))\n",
    "sns.barplot(y=sales_summary['LIFESTAGE'] + ' - ' + sales_summary['PREMIUM_CUSTOMER'],\n",
    "            x=sales_summary['TOT_SALES'], orient='h')  # Set orient='h' for horizontal chart\n",
    "plt.xlabel('Total Sales')\n",
    "plt.ylabel('Customer Segment')\n",
    "plt.title('Summary of Sales by Customer Segment')\n",
    "plt.xticks(rotation=0)\n",
    "\n",
    "# Add tooltips with percentages\n",
    "\n",
    "for i, v in enumerate(sales_summary['TOT_SALES']):\n",
    "    percentage = v / total_sales * 100\n",
    "    plt.text(v, i, f'{percentage:.2f}%', ha='left')\n",
    "\n",
    "# Show plot\n",
    "    \n",
    "plt.show()"
   ]
  },
  {
   "cell_type": "code",
   "execution_count": 50,
   "id": "1e4e6c98-c77a-402f-a408-b4c92ad51474",
   "metadata": {},
   "outputs": [],
   "source": [
    "# calculate the summary of the number of customers by LIFESTAGE and PREMIUM_CUSTOMER\n",
    "\n",
    "summary_count = merged_df.groupby(['PREMIUM_CUSTOMER','LIFESTAGE']).size().reset_index(name='CUSTOMER_COUNT')"
   ]
  },
  {
   "cell_type": "code",
   "execution_count": 51,
   "id": "00c69135-eb69-4af5-87d0-53fefb1b246c",
   "metadata": {},
   "outputs": [
    {
     "data": {
      "text/html": [
       "<div>\n",
       "<style scoped>\n",
       "    .dataframe tbody tr th:only-of-type {\n",
       "        vertical-align: middle;\n",
       "    }\n",
       "\n",
       "    .dataframe tbody tr th {\n",
       "        vertical-align: top;\n",
       "    }\n",
       "\n",
       "    .dataframe thead th {\n",
       "        text-align: right;\n",
       "    }\n",
       "</style>\n",
       "<table border=\"1\" class=\"dataframe\">\n",
       "  <thead>\n",
       "    <tr style=\"text-align: right;\">\n",
       "      <th></th>\n",
       "      <th>PREMIUM_CUSTOMER</th>\n",
       "      <th>LIFESTAGE</th>\n",
       "      <th>CUSTOMER_COUNT</th>\n",
       "    </tr>\n",
       "  </thead>\n",
       "  <tbody>\n",
       "    <tr>\n",
       "      <th>0</th>\n",
       "      <td>Budget</td>\n",
       "      <td>MIDAGE SINGLES/COUPLES</td>\n",
       "      <td>4612</td>\n",
       "    </tr>\n",
       "    <tr>\n",
       "      <th>1</th>\n",
       "      <td>Budget</td>\n",
       "      <td>NEW FAMILIES</td>\n",
       "      <td>2790</td>\n",
       "    </tr>\n",
       "    <tr>\n",
       "      <th>2</th>\n",
       "      <td>Budget</td>\n",
       "      <td>OLDER FAMILIES</td>\n",
       "      <td>21237</td>\n",
       "    </tr>\n",
       "    <tr>\n",
       "      <th>3</th>\n",
       "      <td>Budget</td>\n",
       "      <td>OLDER SINGLES/COUPLES</td>\n",
       "      <td>16962</td>\n",
       "    </tr>\n",
       "    <tr>\n",
       "      <th>4</th>\n",
       "      <td>Budget</td>\n",
       "      <td>RETIREES</td>\n",
       "      <td>14052</td>\n",
       "    </tr>\n",
       "    <tr>\n",
       "      <th>5</th>\n",
       "      <td>Budget</td>\n",
       "      <td>YOUNG FAMILIES</td>\n",
       "      <td>17564</td>\n",
       "    </tr>\n",
       "    <tr>\n",
       "      <th>6</th>\n",
       "      <td>Budget</td>\n",
       "      <td>YOUNG SINGLES/COUPLES</td>\n",
       "      <td>8478</td>\n",
       "    </tr>\n",
       "    <tr>\n",
       "      <th>7</th>\n",
       "      <td>Mainstream</td>\n",
       "      <td>MIDAGE SINGLES/COUPLES</td>\n",
       "      <td>10938</td>\n",
       "    </tr>\n",
       "    <tr>\n",
       "      <th>8</th>\n",
       "      <td>Mainstream</td>\n",
       "      <td>NEW FAMILIES</td>\n",
       "      <td>2149</td>\n",
       "    </tr>\n",
       "    <tr>\n",
       "      <th>9</th>\n",
       "      <td>Mainstream</td>\n",
       "      <td>OLDER FAMILIES</td>\n",
       "      <td>13072</td>\n",
       "    </tr>\n",
       "    <tr>\n",
       "      <th>10</th>\n",
       "      <td>Mainstream</td>\n",
       "      <td>OLDER SINGLES/COUPLES</td>\n",
       "      <td>16844</td>\n",
       "    </tr>\n",
       "    <tr>\n",
       "      <th>11</th>\n",
       "      <td>Mainstream</td>\n",
       "      <td>RETIREES</td>\n",
       "      <td>19697</td>\n",
       "    </tr>\n",
       "    <tr>\n",
       "      <th>12</th>\n",
       "      <td>Mainstream</td>\n",
       "      <td>YOUNG FAMILIES</td>\n",
       "      <td>11827</td>\n",
       "    </tr>\n",
       "    <tr>\n",
       "      <th>13</th>\n",
       "      <td>Mainstream</td>\n",
       "      <td>YOUNG SINGLES/COUPLES</td>\n",
       "      <td>19256</td>\n",
       "    </tr>\n",
       "    <tr>\n",
       "      <th>14</th>\n",
       "      <td>Premium</td>\n",
       "      <td>MIDAGE SINGLES/COUPLES</td>\n",
       "      <td>7504</td>\n",
       "    </tr>\n",
       "    <tr>\n",
       "      <th>15</th>\n",
       "      <td>Premium</td>\n",
       "      <td>NEW FAMILIES</td>\n",
       "      <td>1465</td>\n",
       "    </tr>\n",
       "    <tr>\n",
       "      <th>16</th>\n",
       "      <td>Premium</td>\n",
       "      <td>OLDER FAMILIES</td>\n",
       "      <td>10279</td>\n",
       "    </tr>\n",
       "    <tr>\n",
       "      <th>17</th>\n",
       "      <td>Premium</td>\n",
       "      <td>OLDER SINGLES/COUPLES</td>\n",
       "      <td>16351</td>\n",
       "    </tr>\n",
       "    <tr>\n",
       "      <th>18</th>\n",
       "      <td>Premium</td>\n",
       "      <td>RETIREES</td>\n",
       "      <td>12070</td>\n",
       "    </tr>\n",
       "    <tr>\n",
       "      <th>19</th>\n",
       "      <td>Premium</td>\n",
       "      <td>YOUNG FAMILIES</td>\n",
       "      <td>10663</td>\n",
       "    </tr>\n",
       "    <tr>\n",
       "      <th>20</th>\n",
       "      <td>Premium</td>\n",
       "      <td>YOUNG SINGLES/COUPLES</td>\n",
       "      <td>5785</td>\n",
       "    </tr>\n",
       "  </tbody>\n",
       "</table>\n",
       "</div>"
      ],
      "text/plain": [
       "   PREMIUM_CUSTOMER               LIFESTAGE  CUSTOMER_COUNT\n",
       "0            Budget  MIDAGE SINGLES/COUPLES            4612\n",
       "1            Budget            NEW FAMILIES            2790\n",
       "2            Budget          OLDER FAMILIES           21237\n",
       "3            Budget   OLDER SINGLES/COUPLES           16962\n",
       "4            Budget                RETIREES           14052\n",
       "5            Budget          YOUNG FAMILIES           17564\n",
       "6            Budget   YOUNG SINGLES/COUPLES            8478\n",
       "7        Mainstream  MIDAGE SINGLES/COUPLES           10938\n",
       "8        Mainstream            NEW FAMILIES            2149\n",
       "9        Mainstream          OLDER FAMILIES           13072\n",
       "10       Mainstream   OLDER SINGLES/COUPLES           16844\n",
       "11       Mainstream                RETIREES           19697\n",
       "12       Mainstream          YOUNG FAMILIES           11827\n",
       "13       Mainstream   YOUNG SINGLES/COUPLES           19256\n",
       "14          Premium  MIDAGE SINGLES/COUPLES            7504\n",
       "15          Premium            NEW FAMILIES            1465\n",
       "16          Premium          OLDER FAMILIES           10279\n",
       "17          Premium   OLDER SINGLES/COUPLES           16351\n",
       "18          Premium                RETIREES           12070\n",
       "19          Premium          YOUNG FAMILIES           10663\n",
       "20          Premium   YOUNG SINGLES/COUPLES            5785"
      ]
     },
     "execution_count": 51,
     "metadata": {},
     "output_type": "execute_result"
    }
   ],
   "source": [
    "summary_count"
   ]
  },
  {
   "cell_type": "code",
   "execution_count": 52,
   "id": "f746b260-71ff-44ad-9df4-bd3c67dc61b0",
   "metadata": {},
   "outputs": [
    {
     "data": {
      "image/png": "[encoded data removed]",
      "text/plain": [
       "<Figure size 720x432 with 1 Axes>"
      ]
     },
     "metadata": {
      "needs_background": "light"
     },
     "output_type": "display_data"
    }
   ],
   "source": [
    "# Plotting the Bar Chart\n",
    "\n",
    "plt.figure(figsize=(10, 6))\n",
    "sns.barplot(x='CUSTOMER_COUNT', y='PREMIUM_CUSTOMER', hue='LIFESTAGE', data=summary_count)\n",
    "\n",
    "# Adding labels and title\n",
    "\n",
    "plt.xlabel('CUSTOMER_COUNT')\n",
    "plt.ylabel('LIFESTAGE')\n",
    "plt.title('SUMMARY OF CUSTOMERS BY PREMIUM_CUSTOMER & LIFESTAGE')\n",
    "\n",
    "# Move the legend outside of the plot\n",
    "\n",
    "plt.legend(bbox_to_anchor=(1, 1), loc='upper left')\n",
    "\n",
    "# Display the plot\n",
    "\n",
    "plt.show()"
   ]
  },
  {
   "cell_type": "code",
   "execution_count": 53,
   "id": "4dd1331f-a1e2-4837-82f7-4529c14c136a",
   "metadata": {},
   "outputs": [],
   "source": [
    "# Calculate average units per customer by LIFESTAGE and PREMIUM_CUSTOMER\n",
    "\n",
    "avg_units = merged_df.groupby(['LIFESTAGE', 'PREMIUM_CUSTOMER'])['PROD_QTY'].sum() / merged_df.groupby(['LIFESTAGE', 'PREMIUM_CUSTOMER'])['LYLTY_CARD_NBR'].nunique()\n",
    "\n",
    "# Sort the DataFrame by average units in descending order\n",
    "\n",
    "avg_units = avg_units.reset_index().sort_values(by=0, ascending=False)\n",
    "\n",
    "# Rename the unnamed column as AVG_UNIT_PER_CUSTOMER\n",
    "\n",
    "avg_units = avg_units.rename(columns={0: 'AVG_UNIT_PER_CUSTOMER'})"
   ]
  },
  {
   "cell_type": "code",
   "execution_count": 54,
   "id": "06296162-1ca2-4c7c-810d-c2f76b9fc7f3",
   "metadata": {},
   "outputs": [
    {
     "data": {
      "image/png": "[encoded data removed]",
      "text/plain": [
       "<Figure size 720x432 with 1 Axes>"
      ]
     },
     "metadata": {
      "needs_background": "light"
     },
     "output_type": "display_data"
    }
   ],
   "source": [
    "# Plotting the Horizontal Bar Chart for the Average unit per Customer\n",
    "\n",
    "plt.figure(figsize=(10, 6))\n",
    "sns.barplot(x='AVG_UNIT_PER_CUSTOMER', y='LIFESTAGE', hue='PREMIUM_CUSTOMER', data=avg_units, orient='h')\n",
    "plt.xlabel('Average units per Customer')\n",
    "plt.ylabel('Lifestage')\n",
    "plt.title('Average units per customer by Premium Customer and Lifestage')\n",
    "\n",
    "# Move the legend outside of the plot\n",
    "\n",
    "plt.legend(bbox_to_anchor=(1, 1), loc='upper left')\n",
    "\n",
    "# Show Plot\n",
    "\n",
    "plt.show()"
   ]
  },
  {
   "cell_type": "code",
   "execution_count": 55,
   "id": "bc2eac8c-66e5-4237-acb9-5a84890779ab",
   "metadata": {},
   "outputs": [],
   "source": [
    "# Calculate average price per unit sold\n",
    "\n",
    "merged_df['PROD_UNIT_PRICE'] = merged_df['TOT_SALES'] / merged_df['PROD_QTY']\n",
    "\n",
    "# Group by 'LIFESTAGE' and 'PREMIUM_CUSTOMER' and calculate the average sale price\n",
    "\n",
    "avg_price_per_unit = merged_df.groupby(['PREMIUM_CUSTOMER', 'LIFESTAGE'])['PROD_UNIT_PRICE'].mean()\n",
    "\n",
    "# Rename the unnamed column as AVG_UNIT_PER_CUSTOMER\n",
    "\n",
    "avg_price_per_unit = avg_price_per_unit.rename('AVG_PRICE_PER_UNIT')\n",
    "\n",
    "# Convert avg_price_per_unit Series to DataFrame\n",
    "\n",
    "avg_price_per_unit_df = avg_price_per_unit.reset_index()"
   ]
  },
  {
   "cell_type": "code",
   "execution_count": 56,
   "id": "183bfb03-65c8-4dee-b25e-9978da5e0a98",
   "metadata": {},
   "outputs": [
    {
     "data": {
      "image/png": "[encoded data removed]",
      "text/plain": [
       "<Figure size 720x432 with 1 Axes>"
      ]
     },
     "metadata": {
      "needs_background": "light"
     },
     "output_type": "display_data"
    }
   ],
   "source": [
    "# Plotting the Horizontal Bar Chart for the Average Price per unit sold\n",
    "\n",
    "plt.figure(figsize=(10, 6))\n",
    "sns.barplot(x='AVG_PRICE_PER_UNIT', y='LIFESTAGE', hue='PREMIUM_CUSTOMER', data=avg_price_per_unit_df, orient='h')\n",
    "plt.xlabel('Average price per unit')\n",
    "plt.ylabel('Lifestage')\n",
    "plt.title('Average price per unit by Premium Customer and Lifestage')\n",
    "\n",
    "# Move the legend outside of the plot\n",
    "\n",
    "plt.legend(bbox_to_anchor=(1, 1), loc='upper left')\n",
    "\n",
    "\n",
    "# Show Plot\n",
    "plt.show()"
   ]
  },
  {
   "cell_type": "code",
   "execution_count": 57,
   "id": "5386acfe-ecc8-484b-a4cf-cead91c4c802",
   "metadata": {},
   "outputs": [],
   "source": [
    "# Filter the data for the three groups\n",
    "\n",
    "group1 = merged_df[merged_df['LIFESTAGE'].isin(['YOUNG SINGLES/COUPLES', 'MIDAGE SINGLES/COUPLES']) & (merged_df['PREMIUM_CUSTOMER'] == 'Mainstream')]['PROD_UNIT_PRICE']\n",
    "\n",
    "group2 = merged_df[merged_df['LIFESTAGE'].isin(['YOUNG SINGLES/COUPLES', 'MIDAGE SINGLES/COUPLES']) & (merged_df['PREMIUM_CUSTOMER'] == 'Premium')]['PROD_UNIT_PRICE']\n",
    "\n",
    "group3 = merged_df[merged_df['LIFESTAGE'].isin(['YOUNG SINGLES/COUPLES', 'MIDAGE SINGLES/COUPLES']) & (merged_df['PREMIUM_CUSTOMER'] == 'Budget')]['PROD_UNIT_PRICE']"
   ]
  },
  {
   "cell_type": "code",
   "execution_count": 58,
   "id": "befbb80a-4a81-49b9-9b72-9720afe0bb7f",
   "metadata": {},
   "outputs": [],
   "source": [
    "# Perform the t-test\n",
    "\n",
    "t_statistic1, p_value1 = stats.ttest_ind(group1, group2, equal_var=False)\n",
    "t_statistic2, p_value2 = stats.ttest_ind(group1, group3, equal_var=False)\n",
    "t_statistic3, p_value3 = stats.ttest_ind(group2, group3, equal_var=False)"
   ]
  },
  {
   "cell_type": "code",
   "execution_count": 59,
   "id": "7db07325-b804-4b1e-a911-55c982aec989",
   "metadata": {},
   "outputs": [
    {
     "name": "stdout",
     "output_type": "stream",
     "text": [
      "28.363346932943696 4.774740149493387e-174\n",
      "31.694702054822432 7.193611544350693e-216\n"
     ]
    }
   ],
   "source": [
    "# Show the t-statistic and p-value betweeen group1 & group2 as well as group1 & group2 since thats where we are focused\n",
    "\n",
    "print(t_statistic1, p_value1)\n",
    "print(t_statistic2, p_value2)"
   ]
  },
  {
   "cell_type": "code",
   "execution_count": 60,
   "id": "bbb1966b-f70d-4dd8-8af6-67b835961334",
   "metadata": {},
   "outputs": [
    {
     "name": "stdout",
     "output_type": "stream",
     "text": [
      "The difference in average price per unit between group1 vs group2 and group3 is statistically significant.\n"
     ]
    }
   ],
   "source": [
    "# Finding out if the difference in average price per unit amongst the stated groups is statistically significant \n",
    "\n",
    "alpha = 0.05  # significance level\n",
    "\n",
    "if p_value1 < alpha and p_value2 < alpha:\n",
    "    print(\"The difference in average price per unit between group1 vs group2 and group3 is statistically significant.\")\n",
    "else:\n",
    "    print(\"The difference in average price per unit between group1 vs group2 and group3 is not statistically significant.\")\n"
   ]
  },
  {
   "cell_type": "code",
   "execution_count": 61,
   "id": "bfba1c7d-e94f-4133-9ae6-e96738f0f288",
   "metadata": {},
   "outputs": [],
   "source": [
    "# Filter the dataframe for the Mainstream, young singles/couples customer segments and also for the Other Customer segments\n",
    "\n",
    "segment1 = merged_df[(merged_df['LIFESTAGE'] == 'YOUNG SINGLES/COUPLES') & (merged_df['PREMIUM_CUSTOMER'] == 'Mainstream')]\n",
    "\n",
    "other = merged_df[~((merged_df['LIFESTAGE'] == 'YOUNG SINGLES/COUPLES') & (merged_df['PREMIUM_CUSTOMER'] == 'Mainstream'))]"
   ]
  },
  {
   "cell_type": "code",
   "execution_count": 62,
   "id": "88870fd3-4291-42fd-8178-ee662f064add",
   "metadata": {},
   "outputs": [],
   "source": [
    "# Quantity Purchased by segment1 (Mainstream, young singles/couples customer segments)\n",
    "\n",
    "quantity_segment1 = segment1['PROD_QTY'].sum()\n",
    "\n",
    "# Quantity Purchased by other (Other Customer segments)\n",
    "\n",
    "quantity_other = other['PROD_QTY'].sum()"
   ]
  },
  {
   "cell_type": "code",
   "execution_count": 63,
   "id": "8ac77fe1-e2e9-44b4-8442-14f06a2b367d",
   "metadata": {},
   "outputs": [],
   "source": [
    "# Group the quantities purchased by segment1 by the brand name\n",
    "\n",
    "quantity_segment1_by_brand = segment1.groupby('BRAND_NAME')['PROD_QTY'].sum().reset_index()\n",
    "quantity_segment1_by_brand['targetSegment'] = quantity_segment1_by_brand['PROD_QTY'] / quantity_segment1\n",
    "\n",
    "# Group the quantities purchased by other by the brand name\n",
    "\n",
    "quantity_other_by_brand = other.groupby('BRAND_NAME')['PROD_QTY'].sum().reset_index()\n",
    "quantity_other_by_brand['other'] = quantity_other_by_brand['PROD_QTY'] / quantity_other"
   ]
  },
  {
   "cell_type": "code",
   "execution_count": 64,
   "id": "c2264ab2-d898-4a88-a38c-400f2fcae444",
   "metadata": {},
   "outputs": [],
   "source": [
    "# Merge both customer segments \n",
    "\n",
    "brand_proportions = pd.merge(quantity_segment1_by_brand, quantity_other_by_brand, on='BRAND_NAME')\n",
    "brand_proportions['affinityToBrand'] = brand_proportions['targetSegment'] / brand_proportions['other']\n"
   ]
  },
  {
   "cell_type": "code",
   "execution_count": 65,
   "id": "9b72a5ec-ae89-4109-9f8e-5fab6c060f4d",
   "metadata": {},
   "outputs": [],
   "source": [
    "# Brand affinity of Mainstream Young Single/Couples compared to the rest of the population\n",
    "\n",
    "brand_proportions = brand_proportions.sort_values(by='affinityToBrand', ascending=False)"
   ]
  },
  {
   "cell_type": "code",
   "execution_count": 66,
   "id": "d3d84d88-bdc6-42ff-b46d-b1d4efe4ffb6",
   "metadata": {},
   "outputs": [
    {
     "data": {
      "text/html": [
       "<div>\n",
       "<style scoped>\n",
       "    .dataframe tbody tr th:only-of-type {\n",
       "        vertical-align: middle;\n",
       "    }\n",
       "\n",
       "    .dataframe tbody tr th {\n",
       "        vertical-align: top;\n",
       "    }\n",
       "\n",
       "    .dataframe thead th {\n",
       "        text-align: right;\n",
       "    }\n",
       "</style>\n",
       "<table border=\"1\" class=\"dataframe\">\n",
       "  <thead>\n",
       "    <tr style=\"text-align: right;\">\n",
       "      <th></th>\n",
       "      <th>BRAND_NAME</th>\n",
       "      <th>PROD_QTY_x</th>\n",
       "      <th>targetSegment</th>\n",
       "      <th>PROD_QTY_y</th>\n",
       "      <th>other</th>\n",
       "      <th>affinityToBrand</th>\n",
       "    </tr>\n",
       "  </thead>\n",
       "  <tbody>\n",
       "    <tr>\n",
       "      <th>17</th>\n",
       "      <td>Tyrrells</td>\n",
       "      <td>1143</td>\n",
       "      <td>0.032031</td>\n",
       "      <td>11155</td>\n",
       "      <td>0.026020</td>\n",
       "      <td>1.231033</td>\n",
       "    </tr>\n",
       "    <tr>\n",
       "      <th>16</th>\n",
       "      <td>Twisties</td>\n",
       "      <td>1673</td>\n",
       "      <td>0.046884</td>\n",
       "      <td>16445</td>\n",
       "      <td>0.038359</td>\n",
       "      <td>1.222236</td>\n",
       "    </tr>\n",
       "    <tr>\n",
       "      <th>5</th>\n",
       "      <td>Doritos</td>\n",
       "      <td>4447</td>\n",
       "      <td>0.124622</td>\n",
       "      <td>43884</td>\n",
       "      <td>0.102362</td>\n",
       "      <td>1.217458</td>\n",
       "    </tr>\n",
       "    <tr>\n",
       "      <th>8</th>\n",
       "      <td>Kettle</td>\n",
       "      <td>7172</td>\n",
       "      <td>0.200986</td>\n",
       "      <td>71879</td>\n",
       "      <td>0.167662</td>\n",
       "      <td>1.198758</td>\n",
       "    </tr>\n",
       "    <tr>\n",
       "      <th>15</th>\n",
       "      <td>Tostitos</td>\n",
       "      <td>1645</td>\n",
       "      <td>0.046099</td>\n",
       "      <td>16489</td>\n",
       "      <td>0.038462</td>\n",
       "      <td>1.198574</td>\n",
       "    </tr>\n",
       "    <tr>\n",
       "      <th>9</th>\n",
       "      <td>Pringles</td>\n",
       "      <td>4326</td>\n",
       "      <td>0.121231</td>\n",
       "      <td>43693</td>\n",
       "      <td>0.101917</td>\n",
       "      <td>1.189509</td>\n",
       "    </tr>\n",
       "    <tr>\n",
       "      <th>4</th>\n",
       "      <td>Cobs Popd</td>\n",
       "      <td>1617</td>\n",
       "      <td>0.045314</td>\n",
       "      <td>16954</td>\n",
       "      <td>0.039546</td>\n",
       "      <td>1.145858</td>\n",
       "    </tr>\n",
       "    <tr>\n",
       "      <th>7</th>\n",
       "      <td>Infuzions</td>\n",
       "      <td>1802</td>\n",
       "      <td>0.050499</td>\n",
       "      <td>19317</td>\n",
       "      <td>0.045058</td>\n",
       "      <td>1.120749</td>\n",
       "    </tr>\n",
       "    <tr>\n",
       "      <th>14</th>\n",
       "      <td>Thins</td>\n",
       "      <td>2187</td>\n",
       "      <td>0.061288</td>\n",
       "      <td>24742</td>\n",
       "      <td>0.057712</td>\n",
       "      <td>1.061957</td>\n",
       "    </tr>\n",
       "    <tr>\n",
       "      <th>3</th>\n",
       "      <td>Cheezels</td>\n",
       "      <td>651</td>\n",
       "      <td>0.018243</td>\n",
       "      <td>8096</td>\n",
       "      <td>0.018884</td>\n",
       "      <td>0.966059</td>\n",
       "    </tr>\n",
       "    <tr>\n",
       "      <th>12</th>\n",
       "      <td>Sunbites</td>\n",
       "      <td>1415</td>\n",
       "      <td>0.039654</td>\n",
       "      <td>19003</td>\n",
       "      <td>0.044326</td>\n",
       "      <td>0.894597</td>\n",
       "    </tr>\n",
       "    <tr>\n",
       "      <th>11</th>\n",
       "      <td>Smith's</td>\n",
       "      <td>3491</td>\n",
       "      <td>0.097831</td>\n",
       "      <td>54089</td>\n",
       "      <td>0.126166</td>\n",
       "      <td>0.775415</td>\n",
       "    </tr>\n",
       "    <tr>\n",
       "      <th>6</th>\n",
       "      <td>French Fries</td>\n",
       "      <td>143</td>\n",
       "      <td>0.004007</td>\n",
       "      <td>2500</td>\n",
       "      <td>0.005831</td>\n",
       "      <td>0.687209</td>\n",
       "    </tr>\n",
       "    <tr>\n",
       "      <th>2</th>\n",
       "      <td>Cheetos</td>\n",
       "      <td>291</td>\n",
       "      <td>0.008155</td>\n",
       "      <td>5239</td>\n",
       "      <td>0.012220</td>\n",
       "      <td>0.667325</td>\n",
       "    </tr>\n",
       "    <tr>\n",
       "      <th>10</th>\n",
       "      <td>Red Rock Deli</td>\n",
       "      <td>1587</td>\n",
       "      <td>0.044474</td>\n",
       "      <td>29304</td>\n",
       "      <td>0.068353</td>\n",
       "      <td>0.650644</td>\n",
       "    </tr>\n",
       "    <tr>\n",
       "      <th>13</th>\n",
       "      <td>The Natural Chip Company</td>\n",
       "      <td>710</td>\n",
       "      <td>0.019897</td>\n",
       "      <td>13396</td>\n",
       "      <td>0.031247</td>\n",
       "      <td>0.636761</td>\n",
       "    </tr>\n",
       "    <tr>\n",
       "      <th>1</th>\n",
       "      <td>CCs</td>\n",
       "      <td>405</td>\n",
       "      <td>0.011350</td>\n",
       "      <td>8204</td>\n",
       "      <td>0.019136</td>\n",
       "      <td>0.593093</td>\n",
       "    </tr>\n",
       "    <tr>\n",
       "      <th>18</th>\n",
       "      <td>Woolworths</td>\n",
       "      <td>873</td>\n",
       "      <td>0.024465</td>\n",
       "      <td>21460</td>\n",
       "      <td>0.050057</td>\n",
       "      <td>0.488740</td>\n",
       "    </tr>\n",
       "    <tr>\n",
       "      <th>0</th>\n",
       "      <td>Burger</td>\n",
       "      <td>106</td>\n",
       "      <td>0.002971</td>\n",
       "      <td>2864</td>\n",
       "      <td>0.006680</td>\n",
       "      <td>0.444658</td>\n",
       "    </tr>\n",
       "  </tbody>\n",
       "</table>\n",
       "</div>"
      ],
      "text/plain": [
       "                  BRAND_NAME  PROD_QTY_x  targetSegment  PROD_QTY_y     other  \\\n",
       "17                  Tyrrells        1143       0.032031       11155  0.026020   \n",
       "16                  Twisties        1673       0.046884       16445  0.038359   \n",
       "5                    Doritos        4447       0.124622       43884  0.102362   \n",
       "8                     Kettle        7172       0.200986       71879  0.167662   \n",
       "15                  Tostitos        1645       0.046099       16489  0.038462   \n",
       "9                   Pringles        4326       0.121231       43693  0.101917   \n",
       "4                  Cobs Popd        1617       0.045314       16954  0.039546   \n",
       "7                  Infuzions        1802       0.050499       19317  0.045058   \n",
       "14                     Thins        2187       0.061288       24742  0.057712   \n",
       "3                   Cheezels         651       0.018243        8096  0.018884   \n",
       "12                  Sunbites        1415       0.039654       19003  0.044326   \n",
       "11                   Smith's        3491       0.097831       54089  0.126166   \n",
       "6               French Fries         143       0.004007        2500  0.005831   \n",
       "2                    Cheetos         291       0.008155        5239  0.012220   \n",
       "10             Red Rock Deli        1587       0.044474       29304  0.068353   \n",
       "13  The Natural Chip Company         710       0.019897       13396  0.031247   \n",
       "1                        CCs         405       0.011350        8204  0.019136   \n",
       "18                Woolworths         873       0.024465       21460  0.050057   \n",
       "0                     Burger         106       0.002971        2864  0.006680   \n",
       "\n",
       "    affinityToBrand  \n",
       "17         1.231033  \n",
       "16         1.222236  \n",
       "5          1.217458  \n",
       "8          1.198758  \n",
       "15         1.198574  \n",
       "9          1.189509  \n",
       "4          1.145858  \n",
       "7          1.120749  \n",
       "14         1.061957  \n",
       "3          0.966059  \n",
       "12         0.894597  \n",
       "11         0.775415  \n",
       "6          0.687209  \n",
       "2          0.667325  \n",
       "10         0.650644  \n",
       "13         0.636761  \n",
       "1          0.593093  \n",
       "18         0.488740  \n",
       "0          0.444658  "
      ]
     },
     "execution_count": 66,
     "metadata": {},
     "output_type": "execute_result"
    }
   ],
   "source": [
    "brand_proportions"
   ]
  },
  {
   "cell_type": "code",
   "execution_count": 67,
   "id": "0ed61147-1b72-4b63-9cc8-833c63543e4c",
   "metadata": {},
   "outputs": [
    {
     "name": "stdout",
     "output_type": "stream",
     "text": [
      "The Top 5 Brands mostly likely to be purchased by Mainstream, Young Singles/Couples customer segment are:\n",
      "\n",
      "17    Tyrrells\n",
      "16    Twisties\n",
      "5      Doritos\n",
      "8       Kettle\n",
      "15    Tostitos\n",
      "Name: BRAND_NAME, dtype: object\n"
     ]
    }
   ],
   "source": [
    "# Display the top 5 brands mostly to be bought by the customer segment targeted.\n",
    "\n",
    "print(f\"The Top 5 Brands mostly likely to be purchased by Mainstream, Young Singles/Couples customer segment are:\\n\\n{brand_proportions['BRAND_NAME'][:5]}\")"
   ]
  },
  {
   "cell_type": "code",
   "execution_count": 68,
   "id": "c3763ec1-4df9-4a40-a538-61c8521bf7c4",
   "metadata": {},
   "outputs": [],
   "source": [
    "# Group the quantities purchased by segment1 by the pack size\n",
    "\n",
    "quantity_segment1_by_pack_size = segment1.groupby('PACK_SIZE')['PROD_QTY'].sum().reset_index()\n",
    "quantity_segment1_by_pack_size['targetSegment'] = quantity_segment1_by_pack_size['PROD_QTY'] / quantity_segment1\n",
    "\n",
    "# Group the quantities purchased by other also by the pack size\n",
    "\n",
    "quantity_other_by_pack_size = other.groupby('PACK_SIZE')['PROD_QTY'].sum().reset_index()\n",
    "quantity_other_by_pack_size['other'] = quantity_other_by_pack_size['PROD_QTY'] / quantity_other\n",
    "\n",
    "# Merge both customer segments \n",
    "\n",
    "pack_size_proportions = pd.merge(quantity_segment1_by_pack_size, quantity_other_by_pack_size, on='PACK_SIZE')\n",
    "pack_size_proportions['affinityToPacksize'] = pack_size_proportions['targetSegment'] / pack_size_proportions['other']"
   ]
  },
  {
   "cell_type": "code",
   "execution_count": 69,
   "id": "b160be0e-832d-470a-bcb8-f7892a15db92",
   "metadata": {},
   "outputs": [],
   "source": [
    "# Pack Size affinity of Mainstream Young Single/Couples compared to the rest of the population\n",
    "\n",
    "pack_size_proportions = pack_size_proportions.sort_values(by='affinityToPacksize', ascending=False)"
   ]
  },
  {
   "cell_type": "code",
   "execution_count": 70,
   "id": "a2d0c49e-28c1-4d13-9108-19d9cd9cc257",
   "metadata": {},
   "outputs": [
    {
     "data": {
      "text/html": [
       "<div>\n",
       "<style scoped>\n",
       "    .dataframe tbody tr th:only-of-type {\n",
       "        vertical-align: middle;\n",
       "    }\n",
       "\n",
       "    .dataframe tbody tr th {\n",
       "        vertical-align: top;\n",
       "    }\n",
       "\n",
       "    .dataframe thead th {\n",
       "        text-align: right;\n",
       "    }\n",
       "</style>\n",
       "<table border=\"1\" class=\"dataframe\">\n",
       "  <thead>\n",
       "    <tr style=\"text-align: right;\">\n",
       "      <th></th>\n",
       "      <th>PACK_SIZE</th>\n",
       "      <th>PROD_QTY_x</th>\n",
       "      <th>targetSegment</th>\n",
       "      <th>PROD_QTY_y</th>\n",
       "      <th>other</th>\n",
       "      <th>affinityToPacksize</th>\n",
       "    </tr>\n",
       "  </thead>\n",
       "  <tbody>\n",
       "    <tr>\n",
       "      <th>15</th>\n",
       "      <td>270g</td>\n",
       "      <td>1153</td>\n",
       "      <td>0.032311</td>\n",
       "      <td>10896</td>\n",
       "      <td>0.025416</td>\n",
       "      <td>1.271321</td>\n",
       "    </tr>\n",
       "    <tr>\n",
       "      <th>17</th>\n",
       "      <td>380g</td>\n",
       "      <td>1165</td>\n",
       "      <td>0.032648</td>\n",
       "      <td>11108</td>\n",
       "      <td>0.025910</td>\n",
       "      <td>1.260037</td>\n",
       "    </tr>\n",
       "    <tr>\n",
       "      <th>16</th>\n",
       "      <td>330g</td>\n",
       "      <td>2220</td>\n",
       "      <td>0.062213</td>\n",
       "      <td>21779</td>\n",
       "      <td>0.050801</td>\n",
       "      <td>1.224639</td>\n",
       "    </tr>\n",
       "    <tr>\n",
       "      <th>2</th>\n",
       "      <td>134g</td>\n",
       "      <td>4326</td>\n",
       "      <td>0.121231</td>\n",
       "      <td>43693</td>\n",
       "      <td>0.101917</td>\n",
       "      <td>1.189509</td>\n",
       "    </tr>\n",
       "    <tr>\n",
       "      <th>0</th>\n",
       "      <td>110g</td>\n",
       "      <td>3309</td>\n",
       "      <td>0.092731</td>\n",
       "      <td>33526</td>\n",
       "      <td>0.078202</td>\n",
       "      <td>1.185791</td>\n",
       "    </tr>\n",
       "    <tr>\n",
       "      <th>12</th>\n",
       "      <td>210g</td>\n",
       "      <td>1055</td>\n",
       "      <td>0.029565</td>\n",
       "      <td>10907</td>\n",
       "      <td>0.025441</td>\n",
       "      <td>1.162091</td>\n",
       "    </tr>\n",
       "    <tr>\n",
       "      <th>3</th>\n",
       "      <td>135g</td>\n",
       "      <td>535</td>\n",
       "      <td>0.014993</td>\n",
       "      <td>5677</td>\n",
       "      <td>0.013242</td>\n",
       "      <td>1.132213</td>\n",
       "    </tr>\n",
       "    <tr>\n",
       "      <th>14</th>\n",
       "      <td>250g</td>\n",
       "      <td>520</td>\n",
       "      <td>0.014572</td>\n",
       "      <td>5549</td>\n",
       "      <td>0.012943</td>\n",
       "      <td>1.125853</td>\n",
       "    </tr>\n",
       "    <tr>\n",
       "      <th>7</th>\n",
       "      <td>170g</td>\n",
       "      <td>2926</td>\n",
       "      <td>0.081998</td>\n",
       "      <td>35162</td>\n",
       "      <td>0.082018</td>\n",
       "      <td>0.999756</td>\n",
       "    </tr>\n",
       "    <tr>\n",
       "      <th>4</th>\n",
       "      <td>150g</td>\n",
       "      <td>5709</td>\n",
       "      <td>0.159988</td>\n",
       "      <td>70953</td>\n",
       "      <td>0.165502</td>\n",
       "      <td>0.966679</td>\n",
       "    </tr>\n",
       "    <tr>\n",
       "      <th>8</th>\n",
       "      <td>175g</td>\n",
       "      <td>9237</td>\n",
       "      <td>0.258856</td>\n",
       "      <td>117228</td>\n",
       "      <td>0.273442</td>\n",
       "      <td>0.946657</td>\n",
       "    </tr>\n",
       "    <tr>\n",
       "      <th>6</th>\n",
       "      <td>165g</td>\n",
       "      <td>2016</td>\n",
       "      <td>0.056496</td>\n",
       "      <td>27035</td>\n",
       "      <td>0.063061</td>\n",
       "      <td>0.895895</td>\n",
       "    </tr>\n",
       "    <tr>\n",
       "      <th>10</th>\n",
       "      <td>190g</td>\n",
       "      <td>271</td>\n",
       "      <td>0.007594</td>\n",
       "      <td>5402</td>\n",
       "      <td>0.012601</td>\n",
       "      <td>0.602709</td>\n",
       "    </tr>\n",
       "    <tr>\n",
       "      <th>9</th>\n",
       "      <td>180g</td>\n",
       "      <td>130</td>\n",
       "      <td>0.003643</td>\n",
       "      <td>2634</td>\n",
       "      <td>0.006144</td>\n",
       "      <td>0.592954</td>\n",
       "    </tr>\n",
       "    <tr>\n",
       "      <th>5</th>\n",
       "      <td>160g</td>\n",
       "      <td>232</td>\n",
       "      <td>0.006502</td>\n",
       "      <td>5372</td>\n",
       "      <td>0.012531</td>\n",
       "      <td>0.518854</td>\n",
       "    </tr>\n",
       "    <tr>\n",
       "      <th>19</th>\n",
       "      <td>90g</td>\n",
       "      <td>230</td>\n",
       "      <td>0.006445</td>\n",
       "      <td>5462</td>\n",
       "      <td>0.012740</td>\n",
       "      <td>0.505905</td>\n",
       "    </tr>\n",
       "    <tr>\n",
       "      <th>1</th>\n",
       "      <td>125g</td>\n",
       "      <td>109</td>\n",
       "      <td>0.003055</td>\n",
       "      <td>2621</td>\n",
       "      <td>0.006114</td>\n",
       "      <td>0.499635</td>\n",
       "    </tr>\n",
       "    <tr>\n",
       "      <th>11</th>\n",
       "      <td>200g</td>\n",
       "      <td>325</td>\n",
       "      <td>0.009108</td>\n",
       "      <td>8100</td>\n",
       "      <td>0.018894</td>\n",
       "      <td>0.482049</td>\n",
       "    </tr>\n",
       "    <tr>\n",
       "      <th>18</th>\n",
       "      <td>70g</td>\n",
       "      <td>110</td>\n",
       "      <td>0.003083</td>\n",
       "      <td>2745</td>\n",
       "      <td>0.006403</td>\n",
       "      <td>0.481441</td>\n",
       "    </tr>\n",
       "    <tr>\n",
       "      <th>13</th>\n",
       "      <td>220g</td>\n",
       "      <td>106</td>\n",
       "      <td>0.002971</td>\n",
       "      <td>2864</td>\n",
       "      <td>0.006680</td>\n",
       "      <td>0.444658</td>\n",
       "    </tr>\n",
       "  </tbody>\n",
       "</table>\n",
       "</div>"
      ],
      "text/plain": [
       "   PACK_SIZE  PROD_QTY_x  targetSegment  PROD_QTY_y     other  \\\n",
       "15      270g        1153       0.032311       10896  0.025416   \n",
       "17      380g        1165       0.032648       11108  0.025910   \n",
       "16      330g        2220       0.062213       21779  0.050801   \n",
       "2       134g        4326       0.121231       43693  0.101917   \n",
       "0       110g        3309       0.092731       33526  0.078202   \n",
       "12      210g        1055       0.029565       10907  0.025441   \n",
       "3       135g         535       0.014993        5677  0.013242   \n",
       "14      250g         520       0.014572        5549  0.012943   \n",
       "7       170g        2926       0.081998       35162  0.082018   \n",
       "4       150g        5709       0.159988       70953  0.165502   \n",
       "8       175g        9237       0.258856      117228  0.273442   \n",
       "6       165g        2016       0.056496       27035  0.063061   \n",
       "10      190g         271       0.007594        5402  0.012601   \n",
       "9       180g         130       0.003643        2634  0.006144   \n",
       "5       160g         232       0.006502        5372  0.012531   \n",
       "19       90g         230       0.006445        5462  0.012740   \n",
       "1       125g         109       0.003055        2621  0.006114   \n",
       "11      200g         325       0.009108        8100  0.018894   \n",
       "18       70g         110       0.003083        2745  0.006403   \n",
       "13      220g         106       0.002971        2864  0.006680   \n",
       "\n",
       "    affinityToPacksize  \n",
       "15            1.271321  \n",
       "17            1.260037  \n",
       "16            1.224639  \n",
       "2             1.189509  \n",
       "0             1.185791  \n",
       "12            1.162091  \n",
       "3             1.132213  \n",
       "14            1.125853  \n",
       "7             0.999756  \n",
       "4             0.966679  \n",
       "8             0.946657  \n",
       "6             0.895895  \n",
       "10            0.602709  \n",
       "9             0.592954  \n",
       "5             0.518854  \n",
       "19            0.505905  \n",
       "1             0.499635  \n",
       "11            0.482049  \n",
       "18            0.481441  \n",
       "13            0.444658  "
      ]
     },
     "execution_count": 70,
     "metadata": {},
     "output_type": "execute_result"
    }
   ],
   "source": [
    "pack_size_proportions"
   ]
  },
  {
   "cell_type": "code",
   "execution_count": 71,
   "id": "c0c57a90-a133-4619-850f-1fc03148b9d1",
   "metadata": {},
   "outputs": [
    {
     "name": "stdout",
     "output_type": "stream",
     "text": [
      "The Top 5 pack size mostly likely to be purchased by Mainstream, Young Singles/Couples customer segment are:\n",
      "\n",
      "15    270g\n",
      "17    380g\n",
      "16    330g\n",
      "2     134g\n",
      "0     110g\n",
      "Name: PACK_SIZE, dtype: object\n"
     ]
    }
   ],
   "source": [
    "# Display the top 5 pack size mostly to be bought by the customer segment targeted.\n",
    "\n",
    "print(f\"The Top 5 pack size mostly likely to be purchased by Mainstream, Young Singles/Couples customer segment are:\\n\\n{pack_size_proportions['PACK_SIZE'][:5]}\")"
   ]
  },
  {
   "cell_type": "code",
   "execution_count": 72,
   "id": "33b4bb32-9277-40c5-bb9d-f4a46948903a",
   "metadata": {},
   "outputs": [
    {
     "name": "stdout",
     "output_type": "stream",
     "text": [
      "From the analysis, we can interpret the results as follows:\n",
      "\n",
      "* Brands and Pack sizes with higher values in the affinityToBrand and affinityToPacksize \n",
      "columns have a higher affinity to the target segment which is the mainstream,young single/couples compared to the rest of the population.\n",
      "\n"
     ]
    }
   ],
   "source": [
    "# Interpretation of the Brand Affinity analysis output for Mainstream, Young Singles/Couples\n",
    "\n",
    "print(\"From the analysis, we can interpret the results as follows:\\n\")\n",
    "\n",
    "print('''* Brands and Pack sizes with higher values in the affinityToBrand and affinityToPacksize \n",
    "columns have a higher affinity to the target segment which is the mainstream,young single/couples compared to the rest of the population.\\n''')"
   ]
  },
  {
   "cell_type": "raw",
   "id": "ad6f45aa-744c-4402-9d0d-8b389da442e4",
   "metadata": {},
   "source": [
    "merged_df.to_csv('Clean_QVI_Dataset.csv', index=False)"
   ]
  },
  {
   "cell_type": "code",
   "execution_count": null,
   "id": "4e4ba7fb-6895-4102-ad2e-1aab305cc825",
   "metadata": {},
   "outputs": [],
   "source": []
  }
 ],
 "metadata": {
  "kernelspec": {
   "display_name": "Python 3 (ipykernel)",
   "language": "python",
   "name": "python3"
  },
  "language_info": {
   "codemirror_mode": {
    "name": "ipython",
    "version": 3
   },
   "file_extension": ".py",
   "mimetype": "text/x-python",
   "name": "python",
   "nbconvert_exporter": "python",
   "pygments_lexer": "ipython3",
   "version": "3.9.7"
  }
 },
 "nbformat": 4,
 "nbformat_minor": 5
}
